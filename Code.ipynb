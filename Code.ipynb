{
 "cells": [
  {
   "cell_type": "markdown",
   "metadata": {},
   "source": [
    "# Forecasting Future Revenue for Your Movie\n",
    "## Analysis and Prediction of Movies\n",
    "## BUDT 758X MovieTeller \n",
    "**Members**: Hui He, Shiyu Shi,Qing Yan, Zhuofan Zhang"
   ]
  },
  {
   "cell_type": "markdown",
   "metadata": {},
   "source": [
    "*\\[Our project includes more analysis to figure out which features and which model would be the best choice based on customer needs.\\]*"
   ]
  },
  {
   "cell_type": "markdown",
   "metadata": {},
   "source": [
    "# Introduction"
   ]
  },
  {
   "cell_type": "markdown",
   "metadata": {},
   "source": [
    "<p>With the rapid development of technology and big data, entertainment is quite a big part of people's daily life. Thus, more and more people and investors focus on movie industry in the context of promoting the development of movie industry. Exploring the influence factors of box office and trying to predict box office level could make a difference when it comes to promoting the development of movie industry and helping investors to make better decisions to gain high revenues. </p>\n",
    "\n",
    "<p>As we all know, as time goes by,the key factors that affect the box office are increasing and their underlying relationships are ever-changing. All these challenges make it more valuable for us to try to analyze the trend of people's interests and the market and build models to predict revenues for future movies to help the people in the film industry. </p>\n",
    "\n",
    "<p>Our project will include more analysis than processing. The goal is to utilize analysis to help people who are either investors or have interests in movies to make better decisions on selecting the movies to invest or get a glance at a movie’s future by predicting a movie’s revenue class.</p>\n",
    "\n",
    "Below are our project flowchart and description.\n",
    "\n",
    "\n",
    "<img style=\"float: left;\" src=\"https://i.loli.net/2020/05/01/M9n2g1VvjBmhY6p.png\" width=450 height=200> "
   ]
  },
  {
   "cell_type": "markdown",
   "metadata": {},
   "source": [
    "# Data Processing\n",
    "## 1) Import all libraries"
   ]
  },
  {
   "cell_type": "code",
   "execution_count": 1,
   "metadata": {},
   "outputs": [
    {
     "data": {
      "text/html": [
       "        <script type=\"text/javascript\">\n",
       "        window.PlotlyConfig = {MathJaxConfig: 'local'};\n",
       "        if (window.MathJax) {MathJax.Hub.Config({SVG: {font: \"STIX-Web\"}});}\n",
       "        if (typeof require !== 'undefined') {\n",
       "        require.undef(\"plotly\");\n",
       "        requirejs.config({\n",
       "            paths: {\n",
       "                'plotly': ['https://cdn.plot.ly/plotly-latest.min']\n",
       "            }\n",
       "        });\n",
       "        require(['plotly'], function(Plotly) {\n",
       "            window._Plotly = Plotly;\n",
       "        });\n",
       "        }\n",
       "        </script>\n",
       "        "
      ]
     },
     "metadata": {},
     "output_type": "display_data"
    },
    {
     "name": "stderr",
     "output_type": "stream",
     "text": [
      "[nltk_data] Downloading package wordnet to /Users/shiyu/nltk_data...\n",
      "[nltk_data]   Package wordnet is already up-to-date!\n",
      "[nltk_data] Downloading package stopwords to /Users/shiyu/nltk_data...\n",
      "[nltk_data]   Package stopwords is already up-to-date!\n"
     ]
    }
   ],
   "source": [
    "!pip install plotly==4.6.0\n",
    "!pip install wordcloud\n",
    "!pip install wordnet\n",
    "\n",
    "\n",
    "#General Import\n",
    "import pandas as pd\n",
    "import numpy as np\n",
    "import sklearn\n",
    "import re\n",
    "import datetime as dt\n",
    "import ast as ast\n",
    "import math\n",
    "import sys\n",
    "import random\n",
    "random.seed(12345)\n",
    "\n",
    "# Plots\n",
    "import matplotlib as mpl\n",
    "import matplotlib.pyplot as plt\n",
    "plt.style.use('ggplot')\n",
    "import seaborn as sns\n",
    "sns.set(color_codes=True)\n",
    "sns.set_style('white')\n",
    "sns.set_palette('tab20')\n",
    "import plotly.offline as py\n",
    "import plotly.express as px\n",
    "import plotly.graph_objs as go\n",
    "from plotly.offline import download_plotlyjs, init_notebook_mode, plot, iplot\n",
    "import plotly.tools as tls\n",
    "import plotly.figure_factory as ff\n",
    "py.init_notebook_mode(connected=True)\n",
    "\n",
    "#Text Analysis\n",
    "import string\n",
    "import nltk \n",
    "from nltk.corpus import stopwords\n",
    "from nltk.stem import WordNetLemmatizer \n",
    "nltk.download('wordnet')\n",
    "nltk.download('stopwords')\n",
    "from wordcloud import WordCloud\n",
    "\n",
    "#ignore warning messages \n",
    "import warnings\n",
    "warnings.filterwarnings('ignore') "
   ]
  },
  {
   "cell_type": "code",
   "execution_count": 2,
   "metadata": {},
   "outputs": [],
   "source": [
    "# Data processing, metrics and modeling\n",
    "import requests\n",
    "from pprint import PrettyPrinter\n",
    "pp = PrettyPrinter()\n",
    "from sklearn.preprocessing import StandardScaler\n",
    "from sklearn.model_selection import train_test_split\n",
    "from sklearn.model_selection import StratifiedKFold\n",
    "from sklearn.model_selection import GridSearchCV, cross_val_score\n",
    "from sklearn.metrics import accuracy_score\n",
    "from sklearn import preprocessing\n",
    "from sklearn import metrics\n",
    "from sklearn.metrics import confusion_matrix\n",
    "\n",
    "#Logistic Regression\n",
    "from sklearn.feature_selection import RFE\n",
    "from sklearn.multiclass import OneVsRestClassifier\n",
    "from sklearn.linear_model import LogisticRegression\n",
    "from sklearn.linear_model import RidgeClassifier\n",
    "\n",
    "#kNN Model\n",
    "from sklearn.neighbors import KNeighborsClassifier\n",
    "\n",
    "#SVM Model\n",
    "from sklearn.metrics import classification_report\n",
    "from sklearn.svm import  SVC\n",
    "\n",
    "#Tree Model\n",
    "from sklearn.tree import DecisionTreeClassifier\n",
    "\n",
    "#Bagging Model\n",
    "from sklearn.ensemble import BaggingClassifier\n",
    "\n",
    "#Random Forest Model\n",
    "from sklearn.ensemble import RandomForestClassifier\n",
    "\n",
    "#Boosting Model\n",
    "from sklearn.ensemble import AdaBoostClassifier\n",
    "\n",
    "#Voting Model\n",
    "from sklearn.ensemble import VotingClassifier\n",
    "\n",
    "#Final Test\n",
    "from joblib import dump,load\n",
    "from IPython.display import clear_output"
   ]
  },
  {
   "cell_type": "markdown",
   "metadata": {},
   "source": [
    "## 2) Data aquisition\n",
    "\n",
    "IMDB and TMDB provide a public dataset that includes all the movies information such as genre, budget and gross. We merge the 'IMDB' table and the 'TMDB' table. There are 5000 records focusing on the movie market mainly in the United States.\n",
    "  \n",
    "The IMDB dataset link: https://www.kaggle.com/carolzhangdc/imdb-5000-movie-dataset  \n",
    "The TMDB dataset link: https://www.kaggle.com/tmdb/tmdb-movie-metadata#tmdb_5000_movies.csv"
   ]
  },
  {
   "cell_type": "code",
   "execution_count": 3,
   "metadata": {},
   "outputs": [],
   "source": [
    "#These codes do not need to run every time\n",
    "imdb_movies = pd.read_csv('imdb_5000.csv', header=0, na_values=['NaN', '[]'])\n",
    "imdb_movies.columns # check the cleaned column title in imdb dataset\n",
    "\n",
    "tmdb_movies = pd.read_csv('tmdb_5000_movies.csv', header = 0,na_values=['NaN', '[]'])\n",
    "\n",
    "movies = pd.merge(imdb_movies,tmdb_movies,left_on=\"title\",right_on=\"original_title\")\n",
    "\n",
    "movies.drop_duplicates('original_title',inplace = True) #drop duplicates\n",
    "\n",
    "#Write csv to file\n",
    "#movie.to_csv('movies.csv',index = False)"
   ]
  },
  {
   "cell_type": "markdown",
   "metadata": {},
   "source": [
    "## 3) Data Cleaning for predictive model\n",
    "\n",
    "When merging the data set we should consider  problems:\n",
    "* multi-value attributes\n",
    "* duplication \n",
    "   * duplicated columns\n",
    "   * duplicated rows\n",
    "* missing data\n",
    "* target selection\n",
    "\n",
    "Here are the rules and logic that we fill Na, transform and manipulate our dataset"
   ]
  },
  {
   "cell_type": "markdown",
   "metadata": {},
   "source": [
    "**Production_companies**:For `production_companies`,we will select the first column as the movie's main production company. Also, we added a new column `num_production_companies` to represent the total number of production companies of a certain movie. There are a large number of missing values so that we choose to set NA in `main_production_company` to Unknown, a new category of this feature and set NA in `num_production_companies` to 1, because at least there should be one production company.\n",
    "\n",
    "**Production_countries**:`production_countries` is also a string-represented list of dictionary.But considering that we have already had a feature column `country`, we only add a new column `num_production_countries` representing the total number of countries that collaberates in the production of a certain movie.\n",
    "\n",
    "**Release_date**:For `release_date`, we would only keep the month of it in that we have already had a column of year of the movie and also we assume that movies that are released in different month have different probability to be successful. \n",
    "\n",
    "**spoken_languages**:Since we have a duplicated column `language` that has less missing values, we determined to explode `spoken_language` to get the total number of languages `num_spoken_languages` in which a certain movie has been translated. \n",
    "\n",
    "**status**:As we see the summary of status, it has no missing value and has three categoris. Therefore, we use dummy variables  `status_post_production`, `status_released` and `status_rumored` to make this column more suitable for prediction model.\n",
    "\n",
    "**Tagline**:Same as `overview` and `keywords`, we will use these text values in text analysis later but will not include them in prediction model. Therefore, here we assign 0,1 to indicate whether the movie has a tagline or not. \n",
    "\n",
    "**vote_count and vote_average**:As we can see below, `vote_count` and `vote_average` have many zero values and the variance of `vote_count` is quite large. we did not regards zero as missing value. Instead, we think zero represent the unpopularity of a movie. However, we still need to standarlize `vote_count` to scale data to fall within a specified range.\n",
    "\n",
    "**Genres_x**:`genres_x` describes the categories of the movies such as Action for Action movie, Family for movies telling stories of family and Thriller for Horror movie. Therefore `genres_x` can be used as categorical data for both inference an prediction later on. In order to prepare the `genres_x` data for later analysis. We also create a new column `num_genre` since we assume that more genres might increase the probability of success.\n",
    " \n",
    "**Color**:`color` describes if the movie is a color movie or a black and white movie. For the accuracy of our value, real values searched from the Internet are filled in.\n",
    "\n",
    "**Actor facebook likes & actor name**:We first took `actor_1_name` and `actor_1_facebook_likes` and check null values.However, it turns out that these are all documentary films with no major actors. Therefore when processing missing data like this, we filled 'No Actor' for the actor's name and 0 for the actor's facebook likes.The same method is applied when dealing with\n",
    "`actor_2_name`,`actor_2_facebook_likes`,`actor_2_name`,`actor_3_facebook_likes`.\n",
    "\n",
    "**Num_critic_for_reviews**:`num_critic_for_reviews` describes how many critics review the movie. The null values only takes 0.73% of the whole data set. so we fill the mean to the missing value\n",
    "\n",
    "**Duration**:`duration` describes the length of movie which is stored in minutes such as 178 minutes for 'Avatar'. The null values are a tiny portion for `duration` so it can be filled in by searching on the Internet.\n",
    "\n",
    "**Country**:In the country column, there is only one missing value. Since the movie called'Dawn Patrol' has no country feature, we fill in the missing actual country name 'USA'.\n",
    "\n",
    "**Content_rating**:A content rating usually places a media source into one of a number of different categories, which tell what age group is suitable to view said media.There are 174 missing value, and we create a new category named 'unknown' to decrease the inconsistency of random filled value. \n",
    "\n",
    "**Aspect_ratio**:The aspect ratio of a geometric shape is the ratio of its sizes in different dimensions. The most two common ratio in this data set is '2.35' with number of 2149 instances and'1.85' with 1835 instances. Thus we use before fill method to fill these null value.\n",
    "\n",
    "**facenumber_in_poster**:`facenumber_in_poster` describes the number of faces appeared in the poster of a movie. We could see the distribution of this variable is quite bias, so we decide to use mode to fill the missing values. \n",
    "\n",
    "**Num_user_for_reviews**:`num_user_for_reviews` describes the number of users that wrote the revies for the movies. Since the number of missing value in this column is not large and the ditribution is not bias, we use mean to fill the NAs.\n",
    "\n",
    "**Gross**：`gross` describes the gross of the movie. Since it is one of the most important value that we need to predict and as a target variable, its missing value would affect the model a lot, we will use web scraping to fill in those values  in our next step.\n",
    "\n",
    "**Cast_total_facebook_likes, num_voted_users**;For these two numberical features, we used min/max normalization to transform the scale to fall into a specified range.\n",
    "\n",
    "\n",
    "**budget_x and budget_y**:The `budget` column stores the total cost to make this movie. It is an important feature for our movie dataset, we combined the data we get from both two dataset, and still find 231 missing value, which is quiet much for future prediction.Filling method for four cases:\n",
    "\n",
    "    1.if budget of y is missing only, we set the budget as the budger of x;\n",
    "    2.if budget of x is missing only, we set the budger as the budger of y;\n",
    "    3.if neither of the budget is missing, after we check the data set, the two value is close to each other and in most cases they are the same, wo we decide to set the average of these two column as the final budget.\n",
    "    4.if the budget of imdb and budget of y is both missing, we tried using API directly to fill in. But the effect was not satisfying because the original data is also absent. Considering small amount of missing value, we decided to drop them."
   ]
  },
  {
   "cell_type": "code",
   "execution_count": 4,
   "metadata": {},
   "outputs": [],
   "source": [
    "#Load Dataset\n",
    "#movie=pd.read_csv(\"movies.csv\",na_values=['NaN', '[]'])\n",
    "movie=movies.copy().reset_index(drop=True)\n",
    "#Replace NA values with a formatted list of dictionary\n",
    "movie['production_companies'].replace(np.nan,'[{\"name\": \"\",\"id\": \"\"}]',inplace=True)\n",
    "#Unstack production_companies\n",
    "companies=None\n",
    "for i in range(len(movie)):\n",
    "    record=movie[\"production_companies\"][i]\n",
    "    new=ast.literal_eval(record)\n",
    "    data=pd.DataFrame(new)\n",
    "    data=data.unstack().to_frame().T\n",
    "    company=data['name']\n",
    "    companies=pd.concat([companies,company])\n",
    "#Create new columns \"main_production_company\" and \"num_production_companies\"\n",
    "companies=companies.reset_index(drop=True)\n",
    "movie['main_production_company']=companies.iloc[:,0]\n",
    "movie['num_production_companies']=companies.apply(lambda x: x.count(), axis=1)\n",
    "#label NA in main_production_company as Unknown\n",
    "movie[\"main_production_company\"]=movie[\"main_production_company\"].fillna(value=\"unknown\")\n",
    "#label NA in num_production_company as 1\n",
    "movie[\"num_production_companies\"]=movie[\"num_production_companies\"].fillna(value=1)\n",
    "#Drop original column\n",
    "movie.drop('production_companies',axis=1,inplace=True)\n",
    "#Replace NA values with a formatted list of dictionary\n",
    "movie['production_countries'].replace(np.nan,'[{\"iso_3166_1\": \"\",\"name\": \"\"}]',inplace=True)"
   ]
  },
  {
   "cell_type": "code",
   "execution_count": 5,
   "metadata": {},
   "outputs": [],
   "source": [
    "#Unstack 'production_countries'\n",
    "countries=None\n",
    "for i in range(len(movie)):\n",
    "    record=movie[\"production_countries\"][i]\n",
    "    new=ast.literal_eval(record)\n",
    "    data=pd.DataFrame(new)\n",
    "    data=data.unstack().to_frame().T\n",
    "    country=data['iso_3166_1']\n",
    "    countries=pd.concat([countries,country])\n",
    "#Create new columns \"main_production_company\" and \"num_production_companies\"\n",
    "countries=countries.reset_index(drop=True)\n",
    "movie['num_production_countries']=countries.apply(lambda x: x.count(), axis=1)\n",
    "#label NA in num_production_company as 1\n",
    "movie[\"num_production_countries\"]=movie[\"num_production_countries\"].fillna(value=1)\n",
    "#Drop original column\n",
    "movie.drop('production_countries',axis=1,inplace=True)"
   ]
  },
  {
   "cell_type": "code",
   "execution_count": 6,
   "metadata": {},
   "outputs": [],
   "source": [
    "#transfer string into datetime and substract month into a new column\n",
    "movie['release_date']=pd.to_datetime(movie['release_date'])\n",
    "movie['month']=movie['release_date'].map(lambda x: x.month)\n",
    "##Drop original column\n",
    "movie.drop('release_date',axis=1,inplace=True)"
   ]
  },
  {
   "cell_type": "code",
   "execution_count": 7,
   "metadata": {},
   "outputs": [],
   "source": [
    "#Replace NA values with a formatted list of dictionary\n",
    "movie['spoken_languages'].replace(np.nan,'[{\"iso_639_1\": \"\",\"name\": \"\"}]',inplace=True)\n",
    "\n",
    "#Unstack 'spoken_languages'\n",
    "languages=None\n",
    "for i in range(len(movie)):\n",
    "    record=movie[\"spoken_languages\"][i]\n",
    "    new=ast.literal_eval(record)\n",
    "    data=pd.DataFrame(new)\n",
    "    data=data.unstack().to_frame().T\n",
    "    language=data['iso_639_1']\n",
    "    languages=pd.concat([languages,language])\n",
    "#Create new columns \"main_production_company\" and \"num_production_companies\"\n",
    "languages=languages.reset_index(drop=True)\n",
    "movie['num_spoken_languages']=languages.apply(lambda x: x.count(), axis=1)\n",
    "#label NA in num_production_company as 1\n",
    "movie[\"num_spoken_languages\"]=movie[\"num_spoken_languages\"].fillna(value=1)\n",
    "#Drop original column\n",
    "movie.drop('spoken_languages',axis=1,inplace=True)"
   ]
  },
  {
   "cell_type": "code",
   "execution_count": 8,
   "metadata": {},
   "outputs": [],
   "source": [
    "#See the distribution of status\n",
    "#movie.groupby(by='status')['title_x'].count()\n",
    "#Create dummy variables\n",
    "movie[['status_post_production','status_released','status_rumored']]=pd.get_dummies(movie.status)\n",
    "#Drop original column\n",
    "movie.drop('status',axis=1,inplace=True)\n",
    "\n",
    "#Create tagline_or_not\n",
    "movie['tagline_or_not']=movie.apply(lambda x: 1 if x.tagline!=None else 0, axis=1)\n",
    "#Drop the original column\n",
    "movie.drop('tagline',axis=1,inplace=True)"
   ]
  },
  {
   "cell_type": "code",
   "execution_count": 9,
   "metadata": {},
   "outputs": [],
   "source": [
    "#Split genres_x\n",
    "for i in range(0,8):\n",
    "    new_df=pd.DataFrame({'genres'+str(i):movie['genres_x'].str.split('|').str[i]})\n",
    "    movie=pd.concat([movie,new_df],axis=1)\n",
    "\n",
    "# Create a new column num_genres\n",
    "columns=['genres0','genres1','genres2','genres3','genres4','genres5','genres6','genres7']\n",
    "movie['num_genres']=movie[columns].apply(lambda x: x.count(), axis=1)\n",
    "\n",
    "#Keep the first genre as genre and rename genre0 as genre\n",
    "movie.drop(['genres_x','genres1','genres2','genres3','genres4','genres5','genres6','genres7'],axis=1,inplace=True)\n",
    "movie.rename(columns={\"genres0\":\"genre\"},inplace=True)"
   ]
  },
  {
   "cell_type": "code",
   "execution_count": 10,
   "metadata": {},
   "outputs": [],
   "source": [
    "#extract the 'duration' attribute out to process indepently\n",
    "durationDF=movie[['title_x','duration']]\n",
    "movie.drop('duration',axis=1,inplace=True)\n",
    "#transit dataframe to prepare for filling in missing values\n",
    "transit=durationDF.T\n",
    "\n",
    "#fill in null values with the actual data or mean value for duration\n",
    "transit.fillna({1398:0,3398:durationDF['duration'].mean(),3785:153,3856:116,4028:143,4331:durationDF['duration'].mean()},inplace=True)\n",
    "duration=transit.T\n",
    "duration.drop('title_x',axis=1,inplace=True)\n",
    "\n",
    "#reattach duartion attribute back to the movie dataframe which consists all of our data\n",
    "#this command can only be run once or you will create duplicate columns\n",
    "movie=pd.concat([movie,duration],axis=1)"
   ]
  },
  {
   "cell_type": "code",
   "execution_count": 11,
   "metadata": {},
   "outputs": [],
   "source": [
    "#Variable: budegt_x or budget_y\n",
    "movie.budget_x.describe()\n",
    "c=(movie.budget_x==0).astype(int).sum()\n",
    "g=movie[\"budget_x\"].isna().sum()\n",
    "#print(f'zero in budget_x: {c}')\n",
    "#print(f'na in budget_x: {g}')\n",
    "movie.budget_y.describe()\n",
    "d=(movie.budget_y==0).astype(int).sum()\n",
    "h=movie[\"budget_y\"].isna().sum()\n",
    "#print(f'zero in budget_y: {d}')\n",
    "#print(f'na in budget_y: {h}')\n",
    "# zero in budget_x: 0\n",
    "# na in budget_x: 317\n",
    "# zero in budget_y: 873\n",
    "# na in budget_y: 0\n",
    "# fill 0 for na in budget\n",
    "movie['budget_x'].fillna(value = 0, inplace = True)\n",
    "movie['budget_x'].isna().sum()\n",
    "movie.loc[(movie['budget_x'] != 0) &(movie['budget_y'] == 0),'budget']= movie['budget_x']\n",
    "movie.loc[(movie['budget_x'] == 0) &(movie['budget_y'] != 0),'budget']= movie['budget_y']\n",
    "movie.loc[(movie['budget_x'] != 0) &(movie['budget_y'] != 0),'budget']= (movie['budget_y']+ movie['budget_x'])/2\n",
    "# Delete the rest NAs\n",
    "movie['budget'].isna().sum()\n",
    "#Drop orignal columns\n",
    "movie.drop(['budget_x','budget_y'],axis=1,inplace=True)"
   ]
  },
  {
   "cell_type": "code",
   "execution_count": 12,
   "metadata": {},
   "outputs": [],
   "source": [
    "#fill in with mean value\n",
    "meanNUFR=movie.num_user_for_reviews.mean()\n",
    "movie.num_user_for_reviews.fillna(meanNUFR,inplace=True)\n",
    "\n",
    "#fill Null values for Color \n",
    "movie.fillna({'color':'Color'},inplace=True)\n",
    "\n",
    "#fill Null values for num_critic_for_reviews\n",
    "movie.fillna({'num_critic_for_reviews':movie['num_critic_for_reviews'].mean()},inplace=True)\n",
    "\n",
    "# fill unknown for na in content rating\n",
    "movie['content_rating'].fillna(value = 'unknown', inplace = True)\n",
    "\n",
    "#find the movie 'Dawn Patrol' with no country and fill in the country US \n",
    "movie[movie['country'].isna()]\n",
    "movie['country'].fillna('USA',inplace = True)\n",
    "movie[movie['title_x'] == 'Dawn Patrol']\n",
    "\n",
    "# fill near value before for 'aspect_ratio'\n",
    "movie['aspect_ratio'].fillna(method ='bfill', inplace = True)\n",
    "# Transfer into factor\n",
    "movie['aspect_ratio']=movie['aspect_ratio'].astype('category')\n",
    "\n",
    "# fill Null values for facenumber_in_poster\n",
    "movie.facenumber_in_poster.fillna(movie.facenumber_in_poster.mode(),inplace = True)"
   ]
  },
  {
   "cell_type": "code",
   "execution_count": 13,
   "metadata": {},
   "outputs": [],
   "source": [
    "# Drop duplicated columns\n",
    "movie.drop([\"overview\",'runtime','title_y', 'revenue','homepage',\n",
    "            \"movie_title\",\"original_title\",\"keywords\",\"genres_y\",'id','movie_imdb_link','language','cast_total_facebook_likes','plot_keywords'],axis=1,inplace=True)\n",
    "\n",
    "#rename columns\n",
    "movie.rename(columns={\"title_x\":\"title\",'title_year':'year','original_language':'language'},inplace=True)\n",
    "\n",
    "#Drop NAs\n",
    "movie.dropna(inplace=True)\n",
    "\n",
    "##Save the cleaned data into csv\n",
    "#movie.to_csv('movies_cleaned.csv',index = False)"
   ]
  },
  {
   "cell_type": "markdown",
   "metadata": {},
   "source": [
    "## 4) Data Cleaning for NLP Analysis"
   ]
  },
  {
   "cell_type": "code",
   "execution_count": 14,
   "metadata": {},
   "outputs": [],
   "source": [
    "#Extract columns for NLP and drop NAs\n",
    "movie_extracted=movies[['release_date','overview','gross']]\n",
    "text=movie_extracted.dropna()\n",
    "\n",
    "#Keep only year for our data\n",
    "text['release_year'] = text['release_date'].str.split('-').str[0]\n",
    "text.sort_values(by = 'release_year', ascending = True,inplace = True)\n",
    "\n",
    "##Save the cleaned text data into csv\n",
    "#text.to_csv('movies_text.csv',index = False)"
   ]
  },
  {
   "cell_type": "markdown",
   "metadata": {},
   "source": [
    "\n",
    "# Data Exploration  \n"
   ]
  },
  {
   "cell_type": "code",
   "execution_count": 15,
   "metadata": {},
   "outputs": [],
   "source": [
    "#Load ‘cleaned dataset for prediction’\n",
    "#data = pd.read_csv('movies_cleaned.csv')\n",
    "data=movie.dropna().reset_index(drop=True)\n",
    "#data.head()"
   ]
  },
  {
   "cell_type": "markdown",
   "metadata": {},
   "source": [
    "### 1) Movie productions among years\n",
    "In this dataset, the earliest movie is from 1925, the newest is from 2016. It is obvious that movies are produced more and more since 1980, and then went into a movie era.\n",
    "\n",
    "### 2) Most profitable movie genre\n",
    "\n",
    "In this dataset, we could find that Family movies have the highest average profit followed by Musical and Animation. These three kinds of movies are targets at all levels of audience. The stack bar chart demonstrates that the top 3 have a relatively low budget, so that's why these movies are most profitable. The top 2 costly movie genre is Action and Adventure.\n",
    "\n",
    "### 3) Top-ranking business valuable directors\n",
    "\n",
    "These directors are famous directors we have seen obviously, after we conduct quantitative analysis by ranking the total profit they made, we can discovere that Steven Spielberg is the most business valuable director followed by James Cameron and George Lucas."
   ]
  },
  {
   "cell_type": "code",
   "execution_count": 16,
   "metadata": {},
   "outputs": [
    {
     "data": {
      "image/png": "[encoded data removed]",
      "text/plain": [
       "<Figure size 2160x720 with 1 Axes>"
      ]
     },
     "metadata": {
      "needs_background": "light"
     },
     "output_type": "display_data"
    },
    {
     "data": {
      "image/png": "[encoded data removed]",
      "text/plain": [
       "<Figure size 864x720 with 2 Axes>"
      ]
     },
     "metadata": {
      "needs_background": "light"
     },
     "output_type": "display_data"
    }
   ],
   "source": [
    "plt.figure(figsize=(30,10))\n",
    "plt.subplot(2,2,1)\n",
    "plt.title('Movie Production among Years',color='blue',fontsize =15)\n",
    "data['year'].hist(range=(1925,2018),bins=90,color=(114/255,158/255,206/255))\n",
    "\n",
    "#subplot 2\n",
    "plt.figure(figsize=(12,10))\n",
    "plt.subplot(2,2,1)\n",
    "df1=data[[\"genre\",\"budget\",\"gross\"]].copy()\n",
    "df1[\"profit\"]=df1.gross-df1.budget\n",
    "df1=df1.dropna()\n",
    "for_genre=df1.groupby(by=\"genre\")[\"budget\",\"gross\",\"profit\"].mean().sort_values(by='profit')\n",
    "labels =  list(for_genre.index)\n",
    "plt.barh(labels, for_genre.budget, fc = 'r', label='budget')\n",
    "plt.barh(labels, for_genre.profit, left=for_genre.budget, fc = 'y', label='profit')\n",
    "plt.title(\"Buget and profit in each Genre\",color='red',fontsize =15)                                                    \n",
    "plt.xlabel(\"$\")                                                          \n",
    "plt.legend(loc=4)                                                    \n",
    "\n",
    "#subplot 3\n",
    "plt.subplot(2,2,2)\n",
    "plt.title('Top-ranking business valuable directors',color='green',fontsize =15)\n",
    "df2=data[[\"title\",\"director_name\",\"budget\",\"gross\"]].copy()\n",
    "df2[\"profit\"]=df2.gross-df2.budget\n",
    "df2=df2.dropna()\n",
    "df2.groupby(by=\"director_name\")[\"profit\"].sum().sort_values(ascending = False).head(10).sort_values(ascending = True).plot(kind=\"barh\",color=\"green\")\n",
    "\n",
    "plt.subplots_adjust(wspace = 0.6, hspace =0)\n",
    "plt.show()"
   ]
  },
  {
   "cell_type": "markdown",
   "metadata": {},
   "source": [
    "### 4) The Number And Average IMDB Scores of Different Genres\n",
    "\n",
    "* The total average score is 6.5 and average scores for all types of movies are between 5.8 and 7.3, so we can make a conclusion that there is no sharp fluctuation of scores among different genre, but little difference is still a signal that different type renders different average scores. \n",
    "* The top 3 productive movies are Camera, Action and Drama. These movies are relaxing and funny, as well as are suitable for all target customers. Some of the low productive movies' is not having a low rate, which means minority genre may have a excellent plot and surprising ideas that make people like them. \n",
    "* Horror movies have the lowest average imdb score. But still horror movie has regular products, and is one of top ten profitable movie genres, therefore, movie's rate may be less related to gross."
   ]
  },
  {
   "cell_type": "code",
   "execution_count": 17,
   "metadata": {},
   "outputs": [
    {
     "data": {
      "image/png": "[encoded data removed]",
      "text/plain": [
       "<Figure size 1440x576 with 2 Axes>"
      ]
     },
     "metadata": {
      "needs_background": "light"
     },
     "output_type": "display_data"
    }
   ],
   "source": [
    "# create the dataset of genre\n",
    "genre_data=data.groupby('genre')[['title', 'imdb_score']].agg({'title': 'count', 'imdb_score': 'mean'}).sort_values(by='title', ascending=False).reset_index()\n",
    "#plot a bar chart\n",
    "fig, ax =  plt.subplots(figsize=(20,8))\n",
    "genre_data.title.plot(kind='bar',label='',width=0.8,color='coral',fontsize=11)\n",
    "plt.title('The Number And Average IMDB Scores of Different Genres', fontsize=25)\n",
    "#set the axis\n",
    "ax.set_xlabel('')\n",
    "ax.tick_params(axis='x', rotation=0)\n",
    "ax.spines['top'].set_visible(False)\n",
    "ax.spines['left'].set_visible(False)\n",
    "ax.spines['right'].set_visible(False)\n",
    "ax.tick_params(bottom=False, left=False, right=False, labelleft=False, color='white')\n",
    "\n",
    "# label the amount\n",
    "x= np.arange(genre_data['genre'].nunique())\n",
    "y = genre_data['genre'].value_counts().values\n",
    "for x,y in zip(x, y):\n",
    "    ax.annotate(y, xy=(x,y+15), fontsize=12, weight='bold', ha='center', va='center')\n",
    "#add another plot\n",
    "ax1= ax.twinx()\n",
    "ax1.axhline(genre_data['imdb_score'].mean(), color='green', linestyle='--', linewidth=2, alpha=0.5)\n",
    "#set the axis\n",
    "plt.plot(genre_data.imdb_score,color = 'darkgreen',marker='o', markersize=35, linewidth=3)\n",
    "ax1.set_ylim(0, 10)\n",
    "ax1.spines['top'].set_visible(False)\n",
    "ax1.spines['left'].set_visible(False)\n",
    "ax1.spines['right'].set_visible(False)\n",
    "ax1.spines['bottom'].set_visible(False)\n",
    "ax1.tick_params(bottom=False, left=False, right=False, labelright=False, labelbottom=False)\n",
    "\n",
    "# label the score marker\n",
    "num = np.arange(genre_data.genre.nunique())\n",
    "values = genre_data['imdb_score'].values\n",
    "for x,y in zip(num, values):\n",
    "    ax1.annotate(round(y,1), xy=(x,y-0.05), color='white', fontsize=12, weight='bold', ha='center', va='center')\n",
    "\n",
    "# label the avreage line\n",
    "ax1.annotate('Average IMDB Score', xy=(17, data['imdb_score'].mean()-0.4), color='green', fontsize=12, ha='center', va='center')\n",
    "ax1.text(17-0.1, data['imdb_score'].mean(), round(data['imdb_score'].mean(),1), color='green', fontsize=14, ha='center', va='center');"
   ]
  },
  {
   "cell_type": "markdown",
   "metadata": {},
   "source": [
    "### 5) The relationship between count of people who rated and gross\n",
    "\n",
    "This plot shows us that there seems a positive relationship between gross and the number of people who vote for the movies. But the point at low values has high density. Mobies are concentrated at low gross and low voting count."
   ]
  },
  {
   "cell_type": "code",
   "execution_count": 18,
   "metadata": {},
   "outputs": [
    {
     "data": {
      "image/png": "[encoded data removed]",
      "text/plain": [
       "<Figure size 864x576 with 1 Axes>"
      ]
     },
     "metadata": {
      "needs_background": "light"
     },
     "output_type": "display_data"
    }
   ],
   "source": [
    "fig = plt.figure(figsize=(12,8))\n",
    "sns.scatterplot(data=data, x='vote_count', y='gross')\n",
    "plt.title('The Relationship between Count of People Who Rated and Gross', fontsize=18)\n",
    "sns.despine()"
   ]
  },
  {
   "cell_type": "markdown",
   "metadata": {},
   "source": [
    "# Text Analysis of movie overviews\n",
    "  \n",
    "After seperating 4 classes for gross level, we are interested about the key words of movie overviews in these levels. Whether there is a similarity or difference among these levels? This notebook contains steps of text processing including text preparation, term frequency and wordclouds for each gross level."
   ]
  },
  {
   "cell_type": "markdown",
   "metadata": {},
   "source": [
    "## 1) Classify Gross\n",
    "As our target variable, it is widely spread across its gross range. This will introduce too much noise into our model. And also this project is focused on classification which is to classify the movie's investment return performance into different performance class according to their gross like classifying rich people as millionaires, billionaires and Forbes Rich List, etc. Classifying movies' gross can also help understand the movie's investment return performance by looking at a relative clear class instead of a long number.<br>\n",
    "After exploring the distribution of the movie's gross data, we first scale the number down to scientific notation. And cut the bins according to the data's quantile.<br>"
   ]
  },
  {
   "cell_type": "code",
   "execution_count": 19,
   "metadata": {},
   "outputs": [],
   "source": [
    "#Classify target varibles\n",
    "text['gross']=text['gross']/100000000\n",
    "def classify(column):\n",
    "    if (column>=0)&(column<=0.10):\n",
    "            return(1)\n",
    "    elif (column>0.10)&(column<=0.31):\n",
    "            return(2)\n",
    "    elif (column>0.31)&(column<=0.69):\n",
    "            return(3)\n",
    "    else:\n",
    "            return(4)\n",
    "\n",
    "text['gross_c']=text['gross'].apply(classify)\n",
    "text.drop(['gross'],axis=1,inplace=True)"
   ]
  },
  {
   "cell_type": "code",
   "execution_count": 20,
   "metadata": {},
   "outputs": [],
   "source": [
    "gross_class = list(text.gross_c.unique())\n",
    "#text.gross_c.value_counts()\n",
    "#3    849\n",
    "#4    846\n",
    "#2    786\n",
    "#1    760"
   ]
  },
  {
   "cell_type": "markdown",
   "metadata": {},
   "source": [
    "## 2) Word Clouds\n",
    "### 2.1) stop words Defining\n",
    "Instead of normal stopwords, there are many words related to movies and writing styles of a movie's overview."
   ]
  },
  {
   "cell_type": "code",
   "execution_count": 21,
   "metadata": {},
   "outputs": [],
   "source": [
    "# Remove meaningless words\n",
    "a = ['one','two','three','four','five','six','seven','nd','st','rd','th']\n",
    "b = ['it','in','ve','ha','wa','come','well','way','could','would','really','also','even','alway','always','still','never','must','back']\n",
    "# meaningless verbs\n",
    "c = ['said','asked','did','go','want','try','meet','across','named','got','do','make','know','watch','see','becomes','get','set','begin','first']\n",
    "# nouns that appear so frequently that makes the comparison of two word clouds meaningless\n",
    "d = ['movie','type','story','show','perform','film','discover','team']\n",
    "e= ['woman','man','girl','son','daughter','brother','wife','old','life','father','mother','world','family','friend','soon','year','young','man','new','time','must','help','set','find','finds','three','day','group','become','take','back','seem','keep','turn']\n",
    "add_stopwords = a+b+c+d+e\n",
    "stop_words = set(stopwords.words('english'))\n",
    "\n",
    "for i in range(len(add_stopwords)):\n",
    "    stop_words.add(add_stopwords[i])"
   ]
  },
  {
   "cell_type": "markdown",
   "metadata": {},
   "source": [
    "### 2.2) Text preprocessing\n",
    "we gathered the overviews of movies of each gross class and apply text analysis to the main theme of these movies, steps of text processing:\n",
    "        \n",
    "* Tokenization — convert sentences to lower case words.\n",
    "* Removing unnecessary punctuation, tags, numbers\n",
    "* Removing stop words — frequent words such as ”the”, ”is”, etc. that do not have specific semantic.\n",
    "* Stemming — words are reduced to a root by removing inflection through dropping unnecessary characters, usually a suffix.\n",
    "* Lemmatization — Another approach to remove inflection by determining the part of speech and utilizing detailed database of the language."
   ]
  },
  {
   "cell_type": "code",
   "execution_count": 22,
   "metadata": {},
   "outputs": [],
   "source": [
    "#store the text reviews for each gorss class\n",
    "list_overviews = []\n",
    "temp_class_reviews = ''\n",
    "lemmatizer=WordNetLemmatizer()\n",
    "for gross in gross_class:\n",
    "# iterate through the gross_class\n",
    "    for view in text['overview'][text['gross_c'] == gross]: \n",
    "        view = view.lower()#convert to lowercase\n",
    "        view = re.sub(r'\\d+', '', view) # remove arabian numbers\n",
    "        view = view.translate(str.maketrans(dict.fromkeys(string.punctuation)))  # remove puctuations\n",
    "        view = \" \".join([lemmatizer.lemmatize(word) for word in view.split()]) # Lemmatize\n",
    "        view = [word for word in view.split() if word not in stop_words] \n",
    "        view = ' '.join(view)+' '  # remove stop words\n",
    "        temp_class_reviews += view\n",
    "    list_overviews += [temp_class_reviews]\n",
    "    temp_class_reviews = ''"
   ]
  },
  {
   "cell_type": "markdown",
   "metadata": {},
   "source": [
    "### 2.3) Plot the words cloud\n",
    "Class one contains more topic about love, relationship, secret, school and city ect., which indicates a family and school life topic movie; Class Two contains topics about earth, save, mission, home, which indicates a theme focused more on human and natrue or war and spy topic; Class Three contains topics about save, child, and former, which imply that on this level of movie, the theme is more focused on a theme with children; the class with highest gross includes together, town, decide, child, return. It's less insightful compared to other topics."
   ]
  },
  {
   "cell_type": "code",
   "execution_count": 23,
   "metadata": {
    "scrolled": true
   },
   "outputs": [
    {
     "name": "stdout",
     "output_type": "stream",
     "text": [
      "please input a number from 1-4: 1\n"
     ]
    },
    {
     "data": {
      "image/png": "[encoded data removed]",
      "text/plain": [
       "<Figure size 288x288 with 1 Axes>"
      ]
     },
     "metadata": {
      "needs_background": "light"
     },
     "output_type": "display_data"
    }
   ],
   "source": [
    "#Draw words cloud\n",
    "gross_level = int(input('please input a number from 1-4: '))\n",
    "\n",
    "wordcloud = WordCloud(width = 600, height = 600, \n",
    "                background_color ='black',\n",
    "                stopwords = stop_words, \n",
    "                min_font_size = 10).generate(list_overviews[gross_level-1]) \n",
    "\n",
    "# plot the WordCloud image                        \n",
    "plt.figure(figsize = (4, 4), facecolor = None) \n",
    "plt.imshow(wordcloud) \n",
    "plt.axis(\"off\") \n",
    "plt.tight_layout(pad = 0) \n",
    "plt.show();"
   ]
  },
  {
   "cell_type": "markdown",
   "metadata": {},
   "source": [
    "# According to the clouds, we can pick up top four words of interests in each gross class\n",
    "\n",
    "    Class1: town/american/death/love\n",
    "    Class2: earth/save/mission/home\n",
    "    Class3: secret/former/save/child\n",
    "    Class4: home/child/town/murder"
   ]
  },
  {
   "cell_type": "markdown",
   "metadata": {},
   "source": [
    "## 3) WOI Analysis (word of interests)\n",
    "Based on words in wordclouds, we extracted the top 4 words in each gross class to represent their most frequent topic. For example, in Class 1, words are town, american, death and love, by which we can have a bold guess that movies in Class 1 are more dramatic, like soap opera. However, even if it also has 'town' words, movie themes in Class 4 with higher gross are more about murder, a movie subject more likely to catch the audience away.\n",
    "\n",
    "Next, we are going to calculate the frequency of these words according to certain gross of each year.\n",
    "### 3.1) Texting processing for frequency of woi analysis"
   ]
  },
  {
   "cell_type": "code",
   "execution_count": 24,
   "metadata": {},
   "outputs": [],
   "source": [
    "# to lower\n",
    "text['overview'] =text['overview'].apply(lambda x: x.lower())\n",
    "# remove arabian numbers\n",
    "text['overview']=text['overview'].apply(lambda x: re.sub(r'\\d+', '', x))\n",
    "# remove punctuation\n",
    "text['overview']=text['overview'].apply(lambda x: x.translate(str.maketrans(dict.fromkeys(string.punctuation))))\n",
    "#Lemmatize\n",
    "lemmatizer = WordNetLemmatizer() \n",
    "text['overview'] = text['overview'].apply(lambda x: \" \".join([lemmatizer.lemmatize(word) for word in x.split()]))\n",
    "# remove stopwords\n",
    "text['overview'] = text['overview'].apply(lambda x: ' '.join([word for word in x.split() if word not in stop_words]))\n",
    "# Create count_of_words column\n",
    "text['count_of_words']=text['overview'].apply(lambda x: len(x.split()))"
   ]
  },
  {
   "cell_type": "markdown",
   "metadata": {},
   "source": [
    "### 3.2) Calculate occurence of woi under different gross class over years"
   ]
  },
  {
   "cell_type": "code",
   "execution_count": 25,
   "metadata": {},
   "outputs": [],
   "source": [
    "#Extract used columns\n",
    "sub_text=text[['overview','gross_c','release_year','count_of_words']]\n",
    "\n",
    "#Define words of interests based on results of our word clouds above\n",
    "target = pd.DataFrame({1:['town','american','death','love'],\n",
    "         2:['earth','save','mission','home'],\n",
    "         3:['secret','former','save','child'],\n",
    "         4:['home','child','twon','murder']})\n",
    "\n",
    "#Calculate count of target words\n",
    "count_of_target=[]\n",
    "for i in range(len(sub_text)):\n",
    "    row=sub_text.iloc[i,:]\n",
    "    num=row['gross_c']\n",
    "    count=0\n",
    "    for j in range(0,4):\n",
    "        tar=target[num][j]\n",
    "        count_i=row['overview'].count(tar)\n",
    "        count+=count_i\n",
    "    count_of_target.append(count)\n",
    "\n",
    "count_of_target=pd.Series(count_of_target)\n",
    "\n",
    "#Concat tables\n",
    "sub_text_1=pd.concat([sub_text,count_of_target],axis=1)\n",
    "#Change column name\n",
    "sub_text_1.rename({0: 'count_of_target_words'}, axis=1, inplace=True)\n",
    "\n",
    "#Grouped by gross class and release year\n",
    "grouped=sub_text_1.groupby(by=['gross_c','release_year']).sum()\n",
    "grouped['frequency_woi']=grouped['count_of_target_words']/grouped['count_of_words']\n",
    "grouped=grouped.reset_index()\n",
    "\n",
    "#Convert time to numeric value\n",
    "grouped['release_year']=grouped['release_year'].apply(lambda x: int(x))"
   ]
  },
  {
   "cell_type": "markdown",
   "metadata": {},
   "source": [
    "### 3.3) Plot the results using plotly\n",
    "Before 1980, due to economical and social environment at that time, there are only a few movies, let alone expecting more types of movies. Therefore, we laid our focus on data after 1980. From the plot, we can see that 2000 is a demarcation point, before which the frequencies of defined WOI are higher and more fluctuated. After 2000, the frequency of WOI decreases and stays at a relatively stable position. This difference can be explained by development of the whole movie industry, due to which movie subjects become more and more diversified.  \n",
    "\n",
    "Also, the plot demonstrates our feature selection that we did not include this frequency of movie topic into our predictive modeling later since the values are very similar.  \n",
    "\n",
    "*-**Note**: Plot below is a dynamic plot, if you cannot see it in this Jupyter Notebook, please feel free to use our HTML file.*"
   ]
  },
  {
   "cell_type": "code",
   "execution_count": 26,
   "metadata": {},
   "outputs": [
    {
     "data": {
      "application/vnd.plotly.v1+json": {
       "config": {
        "plotlyServerURL": "https://plot.ly"
       },
       "data": [
        {
         "hovertemplate": "gross_c=1.0<br>release_year=%{x}<br>frequency_woi=%{y}<extra></extra>",
         "legendgroup": "1.0",
         "line": {
          "color": "#636efa",
          "dash": "solid"
         },
         "mode": "lines",
         "name": "1.0",
         "showlegend": true,
         "type": "scatter",
         "x": [
          1980,
          1981,
          1982,
          1984,
          1985,
          1986,
          1987,
          1988,
          1989,
          1990,
          1991,
          1992,
          1993,
          1994,
          1995,
          1996,
          1997,
          1998,
          1999,
          2000,
          2001,
          2002,
          2003,
          2004,
          2005,
          2006,
          2007,
          2008,
          2009,
          2010,
          2011,
          2012,
          2013,
          2014,
          2015,
          2016
         ],
         "xaxis": "x",
         "y": [
          0,
          0.007751937984496124,
          0.03333333333333333,
          0,
          0.04838709677419355,
          0.010101010101010102,
          0.008,
          0,
          0,
          0,
          0,
          0.012658227848101266,
          0,
          0.00398406374501992,
          0.003424657534246575,
          0.01488833746898263,
          0.008185538881309686,
          0.00375234521575985,
          0.0024464831804281344,
          0.006008583690987125,
          0.0038550501156515036,
          0.007936507936507936,
          0.003395585738539898,
          0.00909090909090909,
          0.004143646408839779,
          0.00648202710665881,
          0.007142857142857143,
          0.007614213197969543,
          0.007352941176470588,
          0.0059417706476530005,
          0.002807017543859649,
          0.007952286282306162,
          0.0028846153846153848,
          0.002403846153846154,
          0.005847953216374269,
          0
         ],
         "yaxis": "y"
        },
        {
         "hovertemplate": "gross_c=2.0<br>release_year=%{x}<br>frequency_woi=%{y}<extra></extra>",
         "legendgroup": "2.0",
         "line": {
          "color": "#EF553B",
          "dash": "solid"
         },
         "mode": "lines",
         "name": "2.0",
         "showlegend": true,
         "type": "scatter",
         "x": [
          1980,
          1981,
          1982,
          1983,
          1984,
          1985,
          1986,
          1987,
          1988,
          1989,
          1990,
          1991,
          1992,
          1993,
          1994,
          1995,
          1996,
          1997,
          1998,
          1999,
          2000,
          2001,
          2002,
          2003,
          2004,
          2005,
          2006,
          2007,
          2008,
          2009,
          2010,
          2011,
          2012,
          2013,
          2014,
          2015,
          2016
         ],
         "xaxis": "x",
         "y": [
          0,
          0.011111111111111112,
          0,
          0.025423728813559324,
          0.008658008658008658,
          0,
          0,
          0.005050505050505051,
          0.014705882352941176,
          0.004878048780487805,
          0.014423076923076924,
          0,
          0.016216216216216217,
          0.006622516556291391,
          0.006349206349206349,
          0.002277904328018223,
          0.013642564802182811,
          0.0035778175313059034,
          0.010660980810234541,
          0.021848739495798318,
          0.01102629346904156,
          0.00909090909090909,
          0.01050420168067227,
          0.0039946737683089215,
          0.012879484820607176,
          0.006705783738474434,
          0.007743362831858407,
          0.011428571428571429,
          0.012832263978001834,
          0.0032232070910556,
          0.009163802978235968,
          0.008009153318077803,
          0.015228426395939087,
          0.013349514563106795,
          0.015455950540958269,
          0.013029315960912053,
          0.005
         ],
         "yaxis": "y"
        },
        {
         "hovertemplate": "gross_c=3.0<br>release_year=%{x}<br>frequency_woi=%{y}<extra></extra>",
         "legendgroup": "3.0",
         "line": {
          "color": "#00cc96",
          "dash": "solid"
         },
         "mode": "lines",
         "name": "3.0",
         "showlegend": true,
         "type": "scatter",
         "x": [
          1980,
          1981,
          1982,
          1983,
          1984,
          1985,
          1986,
          1987,
          1988,
          1989,
          1990,
          1991,
          1992,
          1993,
          1994,
          1995,
          1996,
          1997,
          1998,
          1999,
          2000,
          2001,
          2002,
          2003,
          2004,
          2005,
          2006,
          2007,
          2008,
          2009,
          2010,
          2011,
          2012,
          2013,
          2014,
          2015,
          2016
         ],
         "xaxis": "x",
         "y": [
          0.011363636363636364,
          0,
          0,
          0.006944444444444444,
          0.011363636363636364,
          0,
          0.0078125,
          0.025423728813559324,
          0.010309278350515464,
          0.0035335689045936395,
          0,
          0.00641025641025641,
          0.015384615384615385,
          0.016853932584269662,
          0.023148148148148147,
          0,
          0.010494752623688156,
          0.00851063829787234,
          0.009771986970684038,
          0.013123359580052493,
          0.013307984790874524,
          0.007525870178739417,
          0.012313104661389622,
          0.011916583912611719,
          0.012867647058823529,
          0.01303538175046555,
          0.009584664536741214,
          0.010752688172043012,
          0.005122950819672131,
          0.009641873278236915,
          0.010128913443830571,
          0.008637236084452975,
          0.014155712841253791,
          0.008177570093457943,
          0.010893246187363835,
          0.01293103448275862,
          0.01643192488262911
         ],
         "yaxis": "y"
        },
        {
         "hovertemplate": "gross_c=4.0<br>release_year=%{x}<br>frequency_woi=%{y}<extra></extra>",
         "legendgroup": "4.0",
         "line": {
          "color": "#ab63fa",
          "dash": "solid"
         },
         "mode": "lines",
         "name": "4.0",
         "showlegend": true,
         "type": "scatter",
         "x": [
          1980,
          1981,
          1982,
          1983,
          1984,
          1985,
          1986,
          1987,
          1988,
          1989,
          1990,
          1991,
          1992,
          1993,
          1994,
          1995,
          1996,
          1997,
          1998,
          1999,
          2000,
          2001,
          2002,
          2003,
          2004,
          2005,
          2006,
          2007,
          2008,
          2009,
          2010,
          2011,
          2012,
          2013,
          2014,
          2015,
          2016
         ],
         "xaxis": "x",
         "y": [
          0.022988505747126436,
          0,
          0.006097560975609756,
          0,
          0.00975609756097561,
          0.020618556701030927,
          0,
          0.030303030303030304,
          0.022222222222222223,
          0.013157894736842105,
          0,
          0.025423728813559324,
          0.006060606060606061,
          0.004366812227074236,
          0.00946372239747634,
          0.0021141649048625794,
          0.0069124423963133645,
          0.0038314176245210726,
          0.007429420505200594,
          0.0030257186081694403,
          0.00932642487046632,
          0.00683371298405467,
          0.011099899091826439,
          0.008456659619450317,
          0.004602991944764097,
          0.00796812749003984,
          0.007042253521126761,
          0.016786570743405275,
          0.012919896640826873,
          0.008442776735459663,
          0.008988764044943821,
          0.009992313604919293,
          0.007073386383731211,
          0.00881057268722467,
          0.00980392156862745,
          0.015503875968992248,
          0.004576659038901602
         ],
         "yaxis": "y"
        }
       ],
       "layout": {
        "legend": {
         "title": {
          "text": "gross_c"
         },
         "tracegroupgap": 0
        },
        "template": {
         "data": {
          "bar": [
           {
            "error_x": {
             "color": "#2a3f5f"
            },
            "error_y": {
             "color": "#2a3f5f"
            },
            "marker": {
             "line": {
              "color": "#E5ECF6",
              "width": 0.5
             }
            },
            "type": "bar"
           }
          ],
          "barpolar": [
           {
            "marker": {
             "line": {
              "color": "#E5ECF6",
              "width": 0.5
             }
            },
            "type": "barpolar"
           }
          ],
          "carpet": [
           {
            "aaxis": {
             "endlinecolor": "#2a3f5f",
             "gridcolor": "white",
             "linecolor": "white",
             "minorgridcolor": "white",
             "startlinecolor": "#2a3f5f"
            },
            "baxis": {
             "endlinecolor": "#2a3f5f",
             "gridcolor": "white",
             "linecolor": "white",
             "minorgridcolor": "white",
             "startlinecolor": "#2a3f5f"
            },
            "type": "carpet"
           }
          ],
          "choropleth": [
           {
            "colorbar": {
             "outlinewidth": 0,
             "ticks": ""
            },
            "type": "choropleth"
           }
          ],
          "contour": [
           {
            "colorbar": {
             "outlinewidth": 0,
             "ticks": ""
            },
            "colorscale": [
             [
              0,
              "#0d0887"
             ],
             [
              0.1111111111111111,
              "#46039f"
             ],
             [
              0.2222222222222222,
              "#7201a8"
             ],
             [
              0.3333333333333333,
              "#9c179e"
             ],
             [
              0.4444444444444444,
              "#bd3786"
             ],
             [
              0.5555555555555556,
              "#d8576b"
             ],
             [
              0.6666666666666666,
              "#ed7953"
             ],
             [
              0.7777777777777778,
              "#fb9f3a"
             ],
             [
              0.8888888888888888,
              "#fdca26"
             ],
             [
              1,
              "#f0f921"
             ]
            ],
            "type": "contour"
           }
          ],
          "contourcarpet": [
           {
            "colorbar": {
             "outlinewidth": 0,
             "ticks": ""
            },
            "type": "contourcarpet"
           }
          ],
          "heatmap": [
           {
            "colorbar": {
             "outlinewidth": 0,
             "ticks": ""
            },
            "colorscale": [
             [
              0,
              "#0d0887"
             ],
             [
              0.1111111111111111,
              "#46039f"
             ],
             [
              0.2222222222222222,
              "#7201a8"
             ],
             [
              0.3333333333333333,
              "#9c179e"
             ],
             [
              0.4444444444444444,
              "#bd3786"
             ],
             [
              0.5555555555555556,
              "#d8576b"
             ],
             [
              0.6666666666666666,
              "#ed7953"
             ],
             [
              0.7777777777777778,
              "#fb9f3a"
             ],
             [
              0.8888888888888888,
              "#fdca26"
             ],
             [
              1,
              "#f0f921"
             ]
            ],
            "type": "heatmap"
           }
          ],
          "heatmapgl": [
           {
            "colorbar": {
             "outlinewidth": 0,
             "ticks": ""
            },
            "colorscale": [
             [
              0,
              "#0d0887"
             ],
             [
              0.1111111111111111,
              "#46039f"
             ],
             [
              0.2222222222222222,
              "#7201a8"
             ],
             [
              0.3333333333333333,
              "#9c179e"
             ],
             [
              0.4444444444444444,
              "#bd3786"
             ],
             [
              0.5555555555555556,
              "#d8576b"
             ],
             [
              0.6666666666666666,
              "#ed7953"
             ],
             [
              0.7777777777777778,
              "#fb9f3a"
             ],
             [
              0.8888888888888888,
              "#fdca26"
             ],
             [
              1,
              "#f0f921"
             ]
            ],
            "type": "heatmapgl"
           }
          ],
          "histogram": [
           {
            "marker": {
             "colorbar": {
              "outlinewidth": 0,
              "ticks": ""
             }
            },
            "type": "histogram"
           }
          ],
          "histogram2d": [
           {
            "colorbar": {
             "outlinewidth": 0,
             "ticks": ""
            },
            "colorscale": [
             [
              0,
              "#0d0887"
             ],
             [
              0.1111111111111111,
              "#46039f"
             ],
             [
              0.2222222222222222,
              "#7201a8"
             ],
             [
              0.3333333333333333,
              "#9c179e"
             ],
             [
              0.4444444444444444,
              "#bd3786"
             ],
             [
              0.5555555555555556,
              "#d8576b"
             ],
             [
              0.6666666666666666,
              "#ed7953"
             ],
             [
              0.7777777777777778,
              "#fb9f3a"
             ],
             [
              0.8888888888888888,
              "#fdca26"
             ],
             [
              1,
              "#f0f921"
             ]
            ],
            "type": "histogram2d"
           }
          ],
          "histogram2dcontour": [
           {
            "colorbar": {
             "outlinewidth": 0,
             "ticks": ""
            },
            "colorscale": [
             [
              0,
              "#0d0887"
             ],
             [
              0.1111111111111111,
              "#46039f"
             ],
             [
              0.2222222222222222,
              "#7201a8"
             ],
             [
              0.3333333333333333,
              "#9c179e"
             ],
             [
              0.4444444444444444,
              "#bd3786"
             ],
             [
              0.5555555555555556,
              "#d8576b"
             ],
             [
              0.6666666666666666,
              "#ed7953"
             ],
             [
              0.7777777777777778,
              "#fb9f3a"
             ],
             [
              0.8888888888888888,
              "#fdca26"
             ],
             [
              1,
              "#f0f921"
             ]
            ],
            "type": "histogram2dcontour"
           }
          ],
          "mesh3d": [
           {
            "colorbar": {
             "outlinewidth": 0,
             "ticks": ""
            },
            "type": "mesh3d"
           }
          ],
          "parcoords": [
           {
            "line": {
             "colorbar": {
              "outlinewidth": 0,
              "ticks": ""
             }
            },
            "type": "parcoords"
           }
          ],
          "pie": [
           {
            "automargin": true,
            "type": "pie"
           }
          ],
          "scatter": [
           {
            "marker": {
             "colorbar": {
              "outlinewidth": 0,
              "ticks": ""
             }
            },
            "type": "scatter"
           }
          ],
          "scatter3d": [
           {
            "line": {
             "colorbar": {
              "outlinewidth": 0,
              "ticks": ""
             }
            },
            "marker": {
             "colorbar": {
              "outlinewidth": 0,
              "ticks": ""
             }
            },
            "type": "scatter3d"
           }
          ],
          "scattercarpet": [
           {
            "marker": {
             "colorbar": {
              "outlinewidth": 0,
              "ticks": ""
             }
            },
            "type": "scattercarpet"
           }
          ],
          "scattergeo": [
           {
            "marker": {
             "colorbar": {
              "outlinewidth": 0,
              "ticks": ""
             }
            },
            "type": "scattergeo"
           }
          ],
          "scattergl": [
           {
            "marker": {
             "colorbar": {
              "outlinewidth": 0,
              "ticks": ""
             }
            },
            "type": "scattergl"
           }
          ],
          "scattermapbox": [
           {
            "marker": {
             "colorbar": {
              "outlinewidth": 0,
              "ticks": ""
             }
            },
            "type": "scattermapbox"
           }
          ],
          "scatterpolar": [
           {
            "marker": {
             "colorbar": {
              "outlinewidth": 0,
              "ticks": ""
             }
            },
            "type": "scatterpolar"
           }
          ],
          "scatterpolargl": [
           {
            "marker": {
             "colorbar": {
              "outlinewidth": 0,
              "ticks": ""
             }
            },
            "type": "scatterpolargl"
           }
          ],
          "scatterternary": [
           {
            "marker": {
             "colorbar": {
              "outlinewidth": 0,
              "ticks": ""
             }
            },
            "type": "scatterternary"
           }
          ],
          "surface": [
           {
            "colorbar": {
             "outlinewidth": 0,
             "ticks": ""
            },
            "colorscale": [
             [
              0,
              "#0d0887"
             ],
             [
              0.1111111111111111,
              "#46039f"
             ],
             [
              0.2222222222222222,
              "#7201a8"
             ],
             [
              0.3333333333333333,
              "#9c179e"
             ],
             [
              0.4444444444444444,
              "#bd3786"
             ],
             [
              0.5555555555555556,
              "#d8576b"
             ],
             [
              0.6666666666666666,
              "#ed7953"
             ],
             [
              0.7777777777777778,
              "#fb9f3a"
             ],
             [
              0.8888888888888888,
              "#fdca26"
             ],
             [
              1,
              "#f0f921"
             ]
            ],
            "type": "surface"
           }
          ],
          "table": [
           {
            "cells": {
             "fill": {
              "color": "#EBF0F8"
             },
             "line": {
              "color": "white"
             }
            },
            "header": {
             "fill": {
              "color": "#C8D4E3"
             },
             "line": {
              "color": "white"
             }
            },
            "type": "table"
           }
          ]
         },
         "layout": {
          "annotationdefaults": {
           "arrowcolor": "#2a3f5f",
           "arrowhead": 0,
           "arrowwidth": 1
          },
          "coloraxis": {
           "colorbar": {
            "outlinewidth": 0,
            "ticks": ""
           }
          },
          "colorscale": {
           "diverging": [
            [
             0,
             "#8e0152"
            ],
            [
             0.1,
             "#c51b7d"
            ],
            [
             0.2,
             "#de77ae"
            ],
            [
             0.3,
             "#f1b6da"
            ],
            [
             0.4,
             "#fde0ef"
            ],
            [
             0.5,
             "#f7f7f7"
            ],
            [
             0.6,
             "#e6f5d0"
            ],
            [
             0.7,
             "#b8e186"
            ],
            [
             0.8,
             "#7fbc41"
            ],
            [
             0.9,
             "#4d9221"
            ],
            [
             1,
             "#276419"
            ]
           ],
           "sequential": [
            [
             0,
             "#0d0887"
            ],
            [
             0.1111111111111111,
             "#46039f"
            ],
            [
             0.2222222222222222,
             "#7201a8"
            ],
            [
             0.3333333333333333,
             "#9c179e"
            ],
            [
             0.4444444444444444,
             "#bd3786"
            ],
            [
             0.5555555555555556,
             "#d8576b"
            ],
            [
             0.6666666666666666,
             "#ed7953"
            ],
            [
             0.7777777777777778,
             "#fb9f3a"
            ],
            [
             0.8888888888888888,
             "#fdca26"
            ],
            [
             1,
             "#f0f921"
            ]
           ],
           "sequentialminus": [
            [
             0,
             "#0d0887"
            ],
            [
             0.1111111111111111,
             "#46039f"
            ],
            [
             0.2222222222222222,
             "#7201a8"
            ],
            [
             0.3333333333333333,
             "#9c179e"
            ],
            [
             0.4444444444444444,
             "#bd3786"
            ],
            [
             0.5555555555555556,
             "#d8576b"
            ],
            [
             0.6666666666666666,
             "#ed7953"
            ],
            [
             0.7777777777777778,
             "#fb9f3a"
            ],
            [
             0.8888888888888888,
             "#fdca26"
            ],
            [
             1,
             "#f0f921"
            ]
           ]
          },
          "colorway": [
           "#636efa",
           "#EF553B",
           "#00cc96",
           "#ab63fa",
           "#FFA15A",
           "#19d3f3",
           "#FF6692",
           "#B6E880",
           "#FF97FF",
           "#FECB52"
          ],
          "font": {
           "color": "#2a3f5f"
          },
          "geo": {
           "bgcolor": "white",
           "lakecolor": "white",
           "landcolor": "#E5ECF6",
           "showlakes": true,
           "showland": true,
           "subunitcolor": "white"
          },
          "hoverlabel": {
           "align": "left"
          },
          "hovermode": "closest",
          "mapbox": {
           "style": "light"
          },
          "paper_bgcolor": "white",
          "plot_bgcolor": "#E5ECF6",
          "polar": {
           "angularaxis": {
            "gridcolor": "white",
            "linecolor": "white",
            "ticks": ""
           },
           "bgcolor": "#E5ECF6",
           "radialaxis": {
            "gridcolor": "white",
            "linecolor": "white",
            "ticks": ""
           }
          },
          "scene": {
           "xaxis": {
            "backgroundcolor": "#E5ECF6",
            "gridcolor": "white",
            "gridwidth": 2,
            "linecolor": "white",
            "showbackground": true,
            "ticks": "",
            "zerolinecolor": "white"
           },
           "yaxis": {
            "backgroundcolor": "#E5ECF6",
            "gridcolor": "white",
            "gridwidth": 2,
            "linecolor": "white",
            "showbackground": true,
            "ticks": "",
            "zerolinecolor": "white"
           },
           "zaxis": {
            "backgroundcolor": "#E5ECF6",
            "gridcolor": "white",
            "gridwidth": 2,
            "linecolor": "white",
            "showbackground": true,
            "ticks": "",
            "zerolinecolor": "white"
           }
          },
          "shapedefaults": {
           "line": {
            "color": "#2a3f5f"
           }
          },
          "ternary": {
           "aaxis": {
            "gridcolor": "white",
            "linecolor": "white",
            "ticks": ""
           },
           "baxis": {
            "gridcolor": "white",
            "linecolor": "white",
            "ticks": ""
           },
           "bgcolor": "#E5ECF6",
           "caxis": {
            "gridcolor": "white",
            "linecolor": "white",
            "ticks": ""
           }
          },
          "title": {
           "x": 0.05
          },
          "xaxis": {
           "automargin": true,
           "gridcolor": "white",
           "linecolor": "white",
           "ticks": "",
           "title": {
            "standoff": 15
           },
           "zerolinecolor": "white",
           "zerolinewidth": 2
          },
          "yaxis": {
           "automargin": true,
           "gridcolor": "white",
           "linecolor": "white",
           "ticks": "",
           "title": {
            "standoff": 15
           },
           "zerolinecolor": "white",
           "zerolinewidth": 2
          }
         }
        },
        "title": {
         "text": "The Frequency of Corresponding WOI for Gross Class"
        },
        "xaxis": {
         "anchor": "y",
         "domain": [
          0,
          1
         ],
         "title": {
          "text": "release_year"
         }
        },
        "yaxis": {
         "anchor": "x",
         "domain": [
          0,
          1
         ],
         "title": {
          "text": "frequency_woi"
         }
        }
       }
      },
      "text/html": [
       "<div>\n",
       "        \n",
       "        \n",
       "            <div id=\"28919554-9dc6-4364-a4d3-dbf94fb7b9cc\" class=\"plotly-graph-div\" style=\"height:525px; width:100%;\"></div>\n",
       "            <script type=\"text/javascript\">\n",
       "                require([\"plotly\"], function(Plotly) {\n",
       "                    window.PLOTLYENV=window.PLOTLYENV || {};\n",
       "                    \n",
       "                if (document.getElementById(\"28919554-9dc6-4364-a4d3-dbf94fb7b9cc\")) {\n",
       "                    Plotly.newPlot(\n",
       "                        '28919554-9dc6-4364-a4d3-dbf94fb7b9cc',\n",
       "                        [{\"hovertemplate\": \"gross_c=1.0<br>release_year=%{x}<br>frequency_woi=%{y}<extra></extra>\", \"legendgroup\": \"1.0\", \"line\": {\"color\": \"#636efa\", \"dash\": \"solid\"}, \"mode\": \"lines\", \"name\": \"1.0\", \"showlegend\": true, \"type\": \"scatter\", \"x\": [1980, 1981, 1982, 1984, 1985, 1986, 1987, 1988, 1989, 1990, 1991, 1992, 1993, 1994, 1995, 1996, 1997, 1998, 1999, 2000, 2001, 2002, 2003, 2004, 2005, 2006, 2007, 2008, 2009, 2010, 2011, 2012, 2013, 2014, 2015, 2016], \"xaxis\": \"x\", \"y\": [0.0, 0.007751937984496124, 0.03333333333333333, 0.0, 0.04838709677419355, 0.010101010101010102, 0.008, 0.0, 0.0, 0.0, 0.0, 0.012658227848101266, 0.0, 0.00398406374501992, 0.003424657534246575, 0.01488833746898263, 0.008185538881309686, 0.00375234521575985, 0.0024464831804281344, 0.006008583690987125, 0.0038550501156515036, 0.007936507936507936, 0.003395585738539898, 0.00909090909090909, 0.004143646408839779, 0.00648202710665881, 0.007142857142857143, 0.007614213197969543, 0.007352941176470588, 0.0059417706476530005, 0.002807017543859649, 0.007952286282306162, 0.0028846153846153848, 0.002403846153846154, 0.005847953216374269, 0.0], \"yaxis\": \"y\"}, {\"hovertemplate\": \"gross_c=2.0<br>release_year=%{x}<br>frequency_woi=%{y}<extra></extra>\", \"legendgroup\": \"2.0\", \"line\": {\"color\": \"#EF553B\", \"dash\": \"solid\"}, \"mode\": \"lines\", \"name\": \"2.0\", \"showlegend\": true, \"type\": \"scatter\", \"x\": [1980, 1981, 1982, 1983, 1984, 1985, 1986, 1987, 1988, 1989, 1990, 1991, 1992, 1993, 1994, 1995, 1996, 1997, 1998, 1999, 2000, 2001, 2002, 2003, 2004, 2005, 2006, 2007, 2008, 2009, 2010, 2011, 2012, 2013, 2014, 2015, 2016], \"xaxis\": \"x\", \"y\": [0.0, 0.011111111111111112, 0.0, 0.025423728813559324, 0.008658008658008658, 0.0, 0.0, 0.005050505050505051, 0.014705882352941176, 0.004878048780487805, 0.014423076923076924, 0.0, 0.016216216216216217, 0.006622516556291391, 0.006349206349206349, 0.002277904328018223, 0.013642564802182811, 0.0035778175313059034, 0.010660980810234541, 0.021848739495798318, 0.01102629346904156, 0.00909090909090909, 0.01050420168067227, 0.0039946737683089215, 0.012879484820607176, 0.006705783738474434, 0.007743362831858407, 0.011428571428571429, 0.012832263978001834, 0.0032232070910556, 0.009163802978235968, 0.008009153318077803, 0.015228426395939087, 0.013349514563106795, 0.015455950540958269, 0.013029315960912053, 0.005], \"yaxis\": \"y\"}, {\"hovertemplate\": \"gross_c=3.0<br>release_year=%{x}<br>frequency_woi=%{y}<extra></extra>\", \"legendgroup\": \"3.0\", \"line\": {\"color\": \"#00cc96\", \"dash\": \"solid\"}, \"mode\": \"lines\", \"name\": \"3.0\", \"showlegend\": true, \"type\": \"scatter\", \"x\": [1980, 1981, 1982, 1983, 1984, 1985, 1986, 1987, 1988, 1989, 1990, 1991, 1992, 1993, 1994, 1995, 1996, 1997, 1998, 1999, 2000, 2001, 2002, 2003, 2004, 2005, 2006, 2007, 2008, 2009, 2010, 2011, 2012, 2013, 2014, 2015, 2016], \"xaxis\": \"x\", \"y\": [0.011363636363636364, 0.0, 0.0, 0.006944444444444444, 0.011363636363636364, 0.0, 0.0078125, 0.025423728813559324, 0.010309278350515464, 0.0035335689045936395, 0.0, 0.00641025641025641, 0.015384615384615385, 0.016853932584269662, 0.023148148148148147, 0.0, 0.010494752623688156, 0.00851063829787234, 0.009771986970684038, 0.013123359580052493, 0.013307984790874524, 0.007525870178739417, 0.012313104661389622, 0.011916583912611719, 0.012867647058823529, 0.01303538175046555, 0.009584664536741214, 0.010752688172043012, 0.005122950819672131, 0.009641873278236915, 0.010128913443830571, 0.008637236084452975, 0.014155712841253791, 0.008177570093457943, 0.010893246187363835, 0.01293103448275862, 0.01643192488262911], \"yaxis\": \"y\"}, {\"hovertemplate\": \"gross_c=4.0<br>release_year=%{x}<br>frequency_woi=%{y}<extra></extra>\", \"legendgroup\": \"4.0\", \"line\": {\"color\": \"#ab63fa\", \"dash\": \"solid\"}, \"mode\": \"lines\", \"name\": \"4.0\", \"showlegend\": true, \"type\": \"scatter\", \"x\": [1980, 1981, 1982, 1983, 1984, 1985, 1986, 1987, 1988, 1989, 1990, 1991, 1992, 1993, 1994, 1995, 1996, 1997, 1998, 1999, 2000, 2001, 2002, 2003, 2004, 2005, 2006, 2007, 2008, 2009, 2010, 2011, 2012, 2013, 2014, 2015, 2016], \"xaxis\": \"x\", \"y\": [0.022988505747126436, 0.0, 0.006097560975609756, 0.0, 0.00975609756097561, 0.020618556701030927, 0.0, 0.030303030303030304, 0.022222222222222223, 0.013157894736842105, 0.0, 0.025423728813559324, 0.006060606060606061, 0.004366812227074236, 0.00946372239747634, 0.0021141649048625794, 0.0069124423963133645, 0.0038314176245210726, 0.007429420505200594, 0.0030257186081694403, 0.00932642487046632, 0.00683371298405467, 0.011099899091826439, 0.008456659619450317, 0.004602991944764097, 0.00796812749003984, 0.007042253521126761, 0.016786570743405275, 0.012919896640826873, 0.008442776735459663, 0.008988764044943821, 0.009992313604919293, 0.007073386383731211, 0.00881057268722467, 0.00980392156862745, 0.015503875968992248, 0.004576659038901602], \"yaxis\": \"y\"}],\n",
       "                        {\"legend\": {\"title\": {\"text\": \"gross_c\"}, \"tracegroupgap\": 0}, \"template\": {\"data\": {\"bar\": [{\"error_x\": {\"color\": \"#2a3f5f\"}, \"error_y\": {\"color\": \"#2a3f5f\"}, \"marker\": {\"line\": {\"color\": \"#E5ECF6\", \"width\": 0.5}}, \"type\": \"bar\"}], \"barpolar\": [{\"marker\": {\"line\": {\"color\": \"#E5ECF6\", \"width\": 0.5}}, \"type\": \"barpolar\"}], \"carpet\": [{\"aaxis\": {\"endlinecolor\": \"#2a3f5f\", \"gridcolor\": \"white\", \"linecolor\": \"white\", \"minorgridcolor\": \"white\", \"startlinecolor\": \"#2a3f5f\"}, \"baxis\": {\"endlinecolor\": \"#2a3f5f\", \"gridcolor\": \"white\", \"linecolor\": \"white\", \"minorgridcolor\": \"white\", \"startlinecolor\": \"#2a3f5f\"}, \"type\": \"carpet\"}], \"choropleth\": [{\"colorbar\": {\"outlinewidth\": 0, \"ticks\": \"\"}, \"type\": \"choropleth\"}], \"contour\": [{\"colorbar\": {\"outlinewidth\": 0, \"ticks\": \"\"}, \"colorscale\": [[0.0, \"#0d0887\"], [0.1111111111111111, \"#46039f\"], [0.2222222222222222, \"#7201a8\"], [0.3333333333333333, \"#9c179e\"], [0.4444444444444444, \"#bd3786\"], [0.5555555555555556, \"#d8576b\"], [0.6666666666666666, \"#ed7953\"], [0.7777777777777778, \"#fb9f3a\"], [0.8888888888888888, \"#fdca26\"], [1.0, \"#f0f921\"]], \"type\": \"contour\"}], \"contourcarpet\": [{\"colorbar\": {\"outlinewidth\": 0, \"ticks\": \"\"}, \"type\": \"contourcarpet\"}], \"heatmap\": [{\"colorbar\": {\"outlinewidth\": 0, \"ticks\": \"\"}, \"colorscale\": [[0.0, \"#0d0887\"], [0.1111111111111111, \"#46039f\"], [0.2222222222222222, \"#7201a8\"], [0.3333333333333333, \"#9c179e\"], [0.4444444444444444, \"#bd3786\"], [0.5555555555555556, \"#d8576b\"], [0.6666666666666666, \"#ed7953\"], [0.7777777777777778, \"#fb9f3a\"], [0.8888888888888888, \"#fdca26\"], [1.0, \"#f0f921\"]], \"type\": \"heatmap\"}], \"heatmapgl\": [{\"colorbar\": {\"outlinewidth\": 0, \"ticks\": \"\"}, \"colorscale\": [[0.0, \"#0d0887\"], [0.1111111111111111, \"#46039f\"], [0.2222222222222222, \"#7201a8\"], [0.3333333333333333, \"#9c179e\"], [0.4444444444444444, \"#bd3786\"], [0.5555555555555556, \"#d8576b\"], [0.6666666666666666, \"#ed7953\"], [0.7777777777777778, \"#fb9f3a\"], [0.8888888888888888, \"#fdca26\"], [1.0, \"#f0f921\"]], \"type\": \"heatmapgl\"}], \"histogram\": [{\"marker\": {\"colorbar\": {\"outlinewidth\": 0, \"ticks\": \"\"}}, \"type\": \"histogram\"}], \"histogram2d\": [{\"colorbar\": {\"outlinewidth\": 0, \"ticks\": \"\"}, \"colorscale\": [[0.0, \"#0d0887\"], [0.1111111111111111, \"#46039f\"], [0.2222222222222222, \"#7201a8\"], [0.3333333333333333, \"#9c179e\"], [0.4444444444444444, \"#bd3786\"], [0.5555555555555556, \"#d8576b\"], [0.6666666666666666, \"#ed7953\"], [0.7777777777777778, \"#fb9f3a\"], [0.8888888888888888, \"#fdca26\"], [1.0, \"#f0f921\"]], \"type\": \"histogram2d\"}], \"histogram2dcontour\": [{\"colorbar\": {\"outlinewidth\": 0, \"ticks\": \"\"}, \"colorscale\": [[0.0, \"#0d0887\"], [0.1111111111111111, \"#46039f\"], [0.2222222222222222, \"#7201a8\"], [0.3333333333333333, \"#9c179e\"], [0.4444444444444444, \"#bd3786\"], [0.5555555555555556, \"#d8576b\"], [0.6666666666666666, \"#ed7953\"], [0.7777777777777778, \"#fb9f3a\"], [0.8888888888888888, \"#fdca26\"], [1.0, \"#f0f921\"]], \"type\": \"histogram2dcontour\"}], \"mesh3d\": [{\"colorbar\": {\"outlinewidth\": 0, \"ticks\": \"\"}, \"type\": \"mesh3d\"}], \"parcoords\": [{\"line\": {\"colorbar\": {\"outlinewidth\": 0, \"ticks\": \"\"}}, \"type\": \"parcoords\"}], \"pie\": [{\"automargin\": true, \"type\": \"pie\"}], \"scatter\": [{\"marker\": {\"colorbar\": {\"outlinewidth\": 0, \"ticks\": \"\"}}, \"type\": \"scatter\"}], \"scatter3d\": [{\"line\": {\"colorbar\": {\"outlinewidth\": 0, \"ticks\": \"\"}}, \"marker\": {\"colorbar\": {\"outlinewidth\": 0, \"ticks\": \"\"}}, \"type\": \"scatter3d\"}], \"scattercarpet\": [{\"marker\": {\"colorbar\": {\"outlinewidth\": 0, \"ticks\": \"\"}}, \"type\": \"scattercarpet\"}], \"scattergeo\": [{\"marker\": {\"colorbar\": {\"outlinewidth\": 0, \"ticks\": \"\"}}, \"type\": \"scattergeo\"}], \"scattergl\": [{\"marker\": {\"colorbar\": {\"outlinewidth\": 0, \"ticks\": \"\"}}, \"type\": \"scattergl\"}], \"scattermapbox\": [{\"marker\": {\"colorbar\": {\"outlinewidth\": 0, \"ticks\": \"\"}}, \"type\": \"scattermapbox\"}], \"scatterpolar\": [{\"marker\": {\"colorbar\": {\"outlinewidth\": 0, \"ticks\": \"\"}}, \"type\": \"scatterpolar\"}], \"scatterpolargl\": [{\"marker\": {\"colorbar\": {\"outlinewidth\": 0, \"ticks\": \"\"}}, \"type\": \"scatterpolargl\"}], \"scatterternary\": [{\"marker\": {\"colorbar\": {\"outlinewidth\": 0, \"ticks\": \"\"}}, \"type\": \"scatterternary\"}], \"surface\": [{\"colorbar\": {\"outlinewidth\": 0, \"ticks\": \"\"}, \"colorscale\": [[0.0, \"#0d0887\"], [0.1111111111111111, \"#46039f\"], [0.2222222222222222, \"#7201a8\"], [0.3333333333333333, \"#9c179e\"], [0.4444444444444444, \"#bd3786\"], [0.5555555555555556, \"#d8576b\"], [0.6666666666666666, \"#ed7953\"], [0.7777777777777778, \"#fb9f3a\"], [0.8888888888888888, \"#fdca26\"], [1.0, \"#f0f921\"]], \"type\": \"surface\"}], \"table\": [{\"cells\": {\"fill\": {\"color\": \"#EBF0F8\"}, \"line\": {\"color\": \"white\"}}, \"header\": {\"fill\": {\"color\": \"#C8D4E3\"}, \"line\": {\"color\": \"white\"}}, \"type\": \"table\"}]}, \"layout\": {\"annotationdefaults\": {\"arrowcolor\": \"#2a3f5f\", \"arrowhead\": 0, \"arrowwidth\": 1}, \"coloraxis\": {\"colorbar\": {\"outlinewidth\": 0, \"ticks\": \"\"}}, \"colorscale\": {\"diverging\": [[0, \"#8e0152\"], [0.1, \"#c51b7d\"], [0.2, \"#de77ae\"], [0.3, \"#f1b6da\"], [0.4, \"#fde0ef\"], [0.5, \"#f7f7f7\"], [0.6, \"#e6f5d0\"], [0.7, \"#b8e186\"], [0.8, \"#7fbc41\"], [0.9, \"#4d9221\"], [1, \"#276419\"]], \"sequential\": [[0.0, \"#0d0887\"], [0.1111111111111111, \"#46039f\"], [0.2222222222222222, \"#7201a8\"], [0.3333333333333333, \"#9c179e\"], [0.4444444444444444, \"#bd3786\"], [0.5555555555555556, \"#d8576b\"], [0.6666666666666666, \"#ed7953\"], [0.7777777777777778, \"#fb9f3a\"], [0.8888888888888888, \"#fdca26\"], [1.0, \"#f0f921\"]], \"sequentialminus\": [[0.0, \"#0d0887\"], [0.1111111111111111, \"#46039f\"], [0.2222222222222222, \"#7201a8\"], [0.3333333333333333, \"#9c179e\"], [0.4444444444444444, \"#bd3786\"], [0.5555555555555556, \"#d8576b\"], [0.6666666666666666, \"#ed7953\"], [0.7777777777777778, \"#fb9f3a\"], [0.8888888888888888, \"#fdca26\"], [1.0, \"#f0f921\"]]}, \"colorway\": [\"#636efa\", \"#EF553B\", \"#00cc96\", \"#ab63fa\", \"#FFA15A\", \"#19d3f3\", \"#FF6692\", \"#B6E880\", \"#FF97FF\", \"#FECB52\"], \"font\": {\"color\": \"#2a3f5f\"}, \"geo\": {\"bgcolor\": \"white\", \"lakecolor\": \"white\", \"landcolor\": \"#E5ECF6\", \"showlakes\": true, \"showland\": true, \"subunitcolor\": \"white\"}, \"hoverlabel\": {\"align\": \"left\"}, \"hovermode\": \"closest\", \"mapbox\": {\"style\": \"light\"}, \"paper_bgcolor\": \"white\", \"plot_bgcolor\": \"#E5ECF6\", \"polar\": {\"angularaxis\": {\"gridcolor\": \"white\", \"linecolor\": \"white\", \"ticks\": \"\"}, \"bgcolor\": \"#E5ECF6\", \"radialaxis\": {\"gridcolor\": \"white\", \"linecolor\": \"white\", \"ticks\": \"\"}}, \"scene\": {\"xaxis\": {\"backgroundcolor\": \"#E5ECF6\", \"gridcolor\": \"white\", \"gridwidth\": 2, \"linecolor\": \"white\", \"showbackground\": true, \"ticks\": \"\", \"zerolinecolor\": \"white\"}, \"yaxis\": {\"backgroundcolor\": \"#E5ECF6\", \"gridcolor\": \"white\", \"gridwidth\": 2, \"linecolor\": \"white\", \"showbackground\": true, \"ticks\": \"\", \"zerolinecolor\": \"white\"}, \"zaxis\": {\"backgroundcolor\": \"#E5ECF6\", \"gridcolor\": \"white\", \"gridwidth\": 2, \"linecolor\": \"white\", \"showbackground\": true, \"ticks\": \"\", \"zerolinecolor\": \"white\"}}, \"shapedefaults\": {\"line\": {\"color\": \"#2a3f5f\"}}, \"ternary\": {\"aaxis\": {\"gridcolor\": \"white\", \"linecolor\": \"white\", \"ticks\": \"\"}, \"baxis\": {\"gridcolor\": \"white\", \"linecolor\": \"white\", \"ticks\": \"\"}, \"bgcolor\": \"#E5ECF6\", \"caxis\": {\"gridcolor\": \"white\", \"linecolor\": \"white\", \"ticks\": \"\"}}, \"title\": {\"x\": 0.05}, \"xaxis\": {\"automargin\": true, \"gridcolor\": \"white\", \"linecolor\": \"white\", \"ticks\": \"\", \"title\": {\"standoff\": 15}, \"zerolinecolor\": \"white\", \"zerolinewidth\": 2}, \"yaxis\": {\"automargin\": true, \"gridcolor\": \"white\", \"linecolor\": \"white\", \"ticks\": \"\", \"title\": {\"standoff\": 15}, \"zerolinecolor\": \"white\", \"zerolinewidth\": 2}}}, \"title\": {\"text\": \"The Frequency of Corresponding WOI for Gross Class\"}, \"xaxis\": {\"anchor\": \"y\", \"domain\": [0.0, 1.0], \"title\": {\"text\": \"release_year\"}}, \"yaxis\": {\"anchor\": \"x\", \"domain\": [0.0, 1.0], \"title\": {\"text\": \"frequency_woi\"}}},\n",
       "                        {\"responsive\": true}\n",
       "                    ).then(function(){\n",
       "                            \n",
       "var gd = document.getElementById('28919554-9dc6-4364-a4d3-dbf94fb7b9cc');\n",
       "var x = new MutationObserver(function (mutations, observer) {{\n",
       "        var display = window.getComputedStyle(gd).display;\n",
       "        if (!display || display === 'none') {{\n",
       "            console.log([gd, 'removed!']);\n",
       "            Plotly.purge(gd);\n",
       "            observer.disconnect();\n",
       "        }}\n",
       "}});\n",
       "\n",
       "// Listen for the removal of the full notebook cells\n",
       "var notebookContainer = gd.closest('#notebook-container');\n",
       "if (notebookContainer) {{\n",
       "    x.observe(notebookContainer, {childList: true});\n",
       "}}\n",
       "\n",
       "// Listen for the clearing of the current output cell\n",
       "var outputEl = gd.closest('.output');\n",
       "if (outputEl) {{\n",
       "    x.observe(outputEl, {childList: true});\n",
       "}}\n",
       "\n",
       "                        })\n",
       "                };\n",
       "                });\n",
       "            </script>\n",
       "        </div>"
      ]
     },
     "metadata": {},
     "output_type": "display_data"
    }
   ],
   "source": [
    "# frequency of woi over year for different gross class after 1980\n",
    "grouped_1 = grouped[(grouped['release_year']>=1980)]\n",
    "fig_1 = px.line(grouped_1, x=\"release_year\", y=\"frequency_woi\", color='gross_c',title='The Frequency of Corresponding WOI for Gross Class')\n",
    "fig_1.show()"
   ]
  },
  {
   "cell_type": "markdown",
   "metadata": {},
   "source": [
    "# Predictive Modeling\n",
    "## 1) Feature Engineering\n",
    "### 1.1) Classify Gross"
   ]
  },
  {
   "cell_type": "code",
   "execution_count": 27,
   "metadata": {},
   "outputs": [],
   "source": [
    "#Scale\n",
    "movie['gross']=movie['gross']/100000000\n",
    "#movie.gross.describe()"
   ]
  },
  {
   "cell_type": "code",
   "execution_count": 28,
   "metadata": {},
   "outputs": [],
   "source": [
    "#Define a Classification Function \n",
    "def classify(column):\n",
    "    if (column>=0)&(column<=0.10):\n",
    "            return(1)\n",
    "    elif (column>0.10)&(column<=0.31):\n",
    "            return(2)\n",
    "    elif (column>0.31)&(column<=0.69):\n",
    "            return(3)\n",
    "    else:\n",
    "            return(4)\n",
    "\n",
    "#Apply the function     \n",
    "movie['gross_c']=movie['gross'].apply(classify)"
   ]
  },
  {
   "cell_type": "markdown",
   "metadata": {},
   "source": [
    "### 1.2) Convert Director_name, actor_1_name, actor_2_name, actor_3_name\n",
    "As the summary shows, unique directors and actors are very similar to the total count of directors and actors, which indicates that many names experience once or twice. Therefore, we drew a conclusion that these four features have many noises and decided to use the class of a director or actor's past average gross before a new movie of him released to replace simple names in the data. Also, using domain knowledge to elaborate this method, a director's past earning power will affect his or her earning power in the new movie.\n",
    "\n",
    "This classifying process includes the following steps:\n",
    "* Calculate the previous average gross for each cast(director,actor_1,actor_2,actor_3) given a certain year\n",
    "* Generate a DataFrame that contains the information of the cast's name, the cast's yearly average gross and which year that is for.\n",
    "* Classify the cast's average yearly average gross. The Classify logic is the same as the classification logic for the movie's gross."
   ]
  },
  {
   "cell_type": "code",
   "execution_count": 29,
   "metadata": {},
   "outputs": [],
   "source": [
    "##director_name, actor_1_name, actor_2_name, actor_3_name\n",
    "nameDF=movie[['director_name','actor_1_name','actor_2_name','actor_3_name','main_production_company']]"
   ]
  },
  {
   "cell_type": "code",
   "execution_count": 30,
   "metadata": {},
   "outputs": [],
   "source": [
    "#define a function to calculate the avg gross\n",
    "def avggross(value,df,colname):\n",
    "    valueDF=df.get_group(value).sort_values(by='year')\n",
    "    valueDF[colname]='NaN'\n",
    "    for i in range(1,valueDF.shape[0]+1):\n",
    "        x=list(valueDF['gross'].iloc[:i].rolling(i).mean())[i-1]\n",
    "        valueDF[colname].iloc[i-1]=x\n",
    "    return(valueDF)"
   ]
  },
  {
   "cell_type": "code",
   "execution_count": 31,
   "metadata": {},
   "outputs": [],
   "source": [
    "#Define function\n",
    "def generate_avggross(colname,concatDF):\n",
    "    colnameGross=movie[[colname,'year','title','gross']]\n",
    "    colnameGross_group=colnameGross.groupby(by=colname)\n",
    "    unique_col_list=np.unique(colnameGross[colname])\n",
    "    newcolname=colname.rstrip('name')+'AvgGross'\n",
    "    newDF=pd.DataFrame(columns=[colname,'year','gross',newcolname])\n",
    "    for unique_value in unique_col_list:\n",
    "        df=avggross(unique_value,colnameGross_group,newcolname)\n",
    "        newDF=pd.concat([newDF,df])\n",
    "    movie_avggrossDF=concatDF.merge(newDF,left_on=[colname,'year','title','gross'],right_on=[colname,'year','title','gross'])\n",
    "    return(movie_avggrossDF)"
   ]
  },
  {
   "cell_type": "code",
   "execution_count": 32,
   "metadata": {},
   "outputs": [],
   "source": [
    "#Calculate cumulative average gross of directors and actors\n",
    "concatDF=movie\n",
    "for colname in ['director_name','actor_1_name','actor_2_name','actor_3_name']:\n",
    "    new_movie=generate_avggross(colname,concatDF)\n",
    "    concatDF=new_movie\n",
    "\n",
    "avg_gross=concatDF[['director_AvgGross','actor_1_AvgGross','actor_2_AvgGross','actor_3_AvgGross']]\n",
    "#avg_gross.astype('float').describe()"
   ]
  },
  {
   "cell_type": "code",
   "execution_count": 33,
   "metadata": {},
   "outputs": [],
   "source": [
    "#Define function to classfy \n",
    "def classifyCast(column):\n",
    "    if (column>=0)&(column<=0.15):\n",
    "        return(1)\n",
    "    elif (column>0.15)&(column<=0.37):\n",
    "        return(2)\n",
    "    elif (column>0.37)&(column<=0.7):\n",
    "        return(3)\n",
    "    else:\n",
    "        return(4)"
   ]
  },
  {
   "cell_type": "code",
   "execution_count": 34,
   "metadata": {},
   "outputs": [],
   "source": [
    "#Classify features\n",
    "movie_avggrossDF=concatDF\n",
    "for col in ['director_AvgGross','actor_1_AvgGross','actor_2_AvgGross','actor_3_AvgGross']:\n",
    "    movie_avggrossDF[col]=movie_avggrossDF[col].astype('float')\n",
    "    colname=col.rstrip('AvgGross')+'Class'\n",
    "    movie_avggrossDF[colname]=movie_avggrossDF[col].apply(classifyCast)\n",
    "\n",
    "##These dataframes are generated as built-in databases to be queried later in our client-oriented service\n",
    "director_query_df=movie_avggrossDF[['director_name','director_Class','director_facebook_likes']]\n",
    "actor_1_query_df=movie_avggrossDF[['actor_1_name','actor_1_Class','actor_1_facebook_likes']]\n",
    "actor_2_query_df=movie_avggrossDF[['actor_2_name','actor_2_Class','actor_2_facebook_likes']]\n",
    "actor_3_query_df=movie_avggrossDF[['actor_3_name','actor_3_Class','actor_3_facebook_likes']]\n",
    "imdb_score_query_df=movie_avggrossDF.groupby(by=['genre'])['imdb_score','movie_facebook_likes','popularity','vote_average', 'vote_count','num_critic_for_reviews','num_user_for_reviews','num_voted_users'].mean()\n",
    "imdb_score_query_df.reset_index(drop=False,inplace=True)\n",
    "\n",
    "#Drop useless variables\n",
    "movie_avggrossDF.drop(['gross','title','director_name','director_AvgGross','actor_1_AvgGross', 'actor_2_AvgGross','actor_3_AvgGross', 'actor_1_name', 'actor_2_name','actor_3_name'],axis=1,inplace=True)\n",
    "movie_avggrossDF=movie_avggrossDF.dropna()"
   ]
  },
  {
   "cell_type": "markdown",
   "metadata": {},
   "source": [
    "### 1.3) Factorizing categorical variables\n",
    "All models below will need factorized categorical variables, so we operated this step at the beginning. Factorizing is a way to transform categorical variables to a format that models can understand and deal with."
   ]
  },
  {
   "cell_type": "code",
   "execution_count": 35,
   "metadata": {},
   "outputs": [],
   "source": [
    "factorize_column=['color','country','content_rating','language','genre','main_production_company']\n",
    "for colname in factorize_column:\n",
    "    movie_avggrossDF[colname]=pd.factorize(movie_avggrossDF[colname])[0]"
   ]
  },
  {
   "cell_type": "markdown",
   "metadata": {},
   "source": [
    "### 1.4) StandardScale numerical variables\n",
    "Since our dataset includes many numerical columns with a very large scale, such as movie budget scaling from 650 to 1,073,759,949, which will decrease predictive efficiency and accuracy of our model. Therefore, we use standard scaling method to process our numerical variables."
   ]
  },
  {
   "cell_type": "code",
   "execution_count": 36,
   "metadata": {},
   "outputs": [],
   "source": [
    "#train\n",
    "target_col = [\"gross_c\"]\n",
    "bin_cols=['status_post_production','status_released','status_rumored','tagline_or_not',]\n",
    "cat_cols=['color','director_Class','actor_1_Class','actor_2_Class','actor_3_Class','main_production_company','year','country','content_rating','month','aspect_ratio','language','genre']\n",
    "\n",
    "#numerical columns\n",
    "num_cols= [x for x in movie_avggrossDF.columns if x not in target_col + bin_cols + cat_cols]\n",
    "\n",
    "#Scaling Numerical columns\n",
    "std = StandardScaler()\n",
    "movie_avggrossDF[num_cols] = std.fit_transform(movie_avggrossDF[num_cols])"
   ]
  },
  {
   "cell_type": "markdown",
   "metadata": {},
   "source": [
    "### 1.5) Data Transformation Pipeline\n",
    "This step is to save data transformation pipline to prepare for transfering data later entered by our clients.This pipeline includes the factorize step and standardization step."
   ]
  },
  {
   "cell_type": "code",
   "execution_count": 37,
   "metadata": {},
   "outputs": [],
   "source": [
    "def pipeline_transfer(feature_df):\n",
    "    factorize_column=['color','country','content_rating','language','genre','main_production_company']\n",
    "    for colname in factorize_column:\n",
    "        feature_df[colname]=pd.factorize(feature_df[colname])[0]\n",
    "    target_col = [\"gross_c\"]\n",
    "    bin_cols=['status_post_production','status_released','status_rumored','tagline_or_not',]\n",
    "    cat_cols=['color','director_Class','actor_1_Class','actor_2_Class','actor_3_Class','main_production_company','year','country','content_rating','month','aspect_ratio','language','genre']\n",
    "\n",
    "    #numerical columns\n",
    "    num_cols= [x for x in movie_avggrossDF.columns if x not in target_col + bin_cols + cat_cols]\n",
    "    for i in range(0,len(num_cols)):\n",
    "        col_name=num_cols[i]\n",
    "        miu=std.mean_[i]\n",
    "        stdeviation=std.var_[i]\n",
    "        myscore=(feature_df[col_name]-miu)/stdeviation\n",
    "        feature_df[col_name]=myscore\n",
    "    "
   ]
  },
  {
   "cell_type": "markdown",
   "metadata": {},
   "source": [
    "## 2) Partition the dataset\n",
    "To train and test our model, we define 0.3 of all data as testing data and 0.7 as training data. Training Data will be used to train and tune our models using cross validation and the predictive capacity of models will be tested on testing data."
   ]
  },
  {
   "cell_type": "code",
   "execution_count": 38,
   "metadata": {},
   "outputs": [],
   "source": [
    "#Split dataset\n",
    "X_avggross_train,X_avggross_test, y_avggross_train,y_avggross_test=train_test_split(movie_avggrossDF.drop(['gross_c'],axis=1),movie_avggrossDF[['gross_c']].values.ravel(),test_size=0.3,random_state=12345)"
   ]
  },
  {
   "cell_type": "markdown",
   "metadata": {},
   "source": [
    "#### Definition Cleared Ahead:<br>\n",
    "`GridSearch`: Exhaustive search over specified parameter values for an estimator.GridSearchCV implements a “fit” and a “score” method. It also implements “predict”, “predict_proba”, “decision_function”, “transform” and “inverse_transform” if they are implemented in the estimator used.\n",
    "\n",
    "The parameters of the estimator used to apply these methods are optimized by cross-validated grid-search over a parameter grid.\n",
    "\n",
    "*\\- **Note**: Accuracy will be a little different in each execution of machine learning, but there should not be a large difference.*"
   ]
  },
  {
   "cell_type": "markdown",
   "metadata": {},
   "source": [
    "## 3) Logistic Regression\n",
    "Logistic Regression is a statistic method to utilize a logistic function to model a binary dependent variable. In our project, the target varible is a multiclass variable instead of a binary feature. In order to use logistic regression to train a predictive model, we adopt a one-vs-rest classifier method to regard one class as one and the rest classes as zero, which transforms this prediction to a classic logistic question.  \n",
    "We run three steps to tune logistic regression model and get an accuracy of each with cross validation:\n",
    "* Basic Logistic Regression: **0.7479912771543714**\n",
    "* Model with L1 regularization & Inverse regularization parameter C 0.1: **0.7531848708624587**\n",
    "* Model after recursive feature elimination: **0.7527856692656523**"
   ]
  },
  {
   "cell_type": "markdown",
   "metadata": {},
   "source": [
    "### 3.1) Basic Logistic Regression without any hyperparameters"
   ]
  },
  {
   "cell_type": "code",
   "execution_count": 39,
   "metadata": {},
   "outputs": [],
   "source": [
    "log_model=OneVsRestClassifier(LogisticRegression())\n",
    "accuracy=cross_val_score(log_model, X_avggross_train, y_avggross_train, cv = 5, scoring = 'accuracy')\n",
    "\n",
    "#accuracy.mean()\n",
    "#0.7479912771543714"
   ]
  },
  {
   "cell_type": "markdown",
   "metadata": {},
   "source": [
    "### 3.2) Tuning parameters: penalty & C\n",
    "l1, l2 are two different penalty methods to add some constraints by which algorithmns need to 'adhere to' when minimizing loss functions. C controls strength modification of regularization and equals to 1/λ, which is a familiar letter for us."
   ]
  },
  {
   "cell_type": "code",
   "execution_count": 40,
   "metadata": {},
   "outputs": [],
   "source": [
    "param_grid = {'penalty' : ['l2','l1'],'C' : [0.001, 0.01, 0.1, 1, 10, 100, 1000]}\n",
    "model1=LogisticRegression()\n",
    "grid = GridSearchCV(estimator = model1, param_grid = param_grid , scoring = 'accuracy', n_jobs = -1)\n",
    "grid.fit(X_avggross_train,y_avggross_train)\n",
    "\n",
    "#print(\"Best Score:\" + str(grid.best_score_))\n",
    "#print(\"Best Parameters: \" + str(grid.best_params_))\n",
    "#Best Score:0.7484051036682615\n",
    "#Best Parameters: {'C': 0.1, 'penalty': 'l1'}\n",
    "\n",
    "#Train with best paramters\n",
    "best_parameters = grid.best_params_\n",
    "model_tuned=LogisticRegression(**best_parameters)\n",
    "accuracy_tuned=cross_val_score(model_tuned,X_avggross_train, y_avggross_train, cv = 5, scoring = 'accuracy')\n",
    "\n",
    "#accuracy_tuned.mean()\n",
    "#0.7531848708624587"
   ]
  },
  {
   "cell_type": "markdown",
   "metadata": {},
   "source": [
    "### 3.3)  Recursive Feature Elimination\n",
    "Since we have many features and not all of them can be a good predictor, we use recursive feature elimination, a feature selection method that removes the weakest feature until the specified number of features is reached. By looking at accuracy, logistic regression model with penalty and feature selection is the best and has an accuracy of 0.752785."
   ]
  },
  {
   "cell_type": "code",
   "execution_count": 41,
   "metadata": {},
   "outputs": [],
   "source": [
    "model_tuned.fit(X_avggross_train,y_avggross_train)\n",
    "selector = RFE(model_tuned, 35, step=15)\n",
    "selector_model=selector.fit(X_avggross_train,y_avggross_train)\n",
    "accuracy_selector = cross_val_score(selector_model, X_avggross_train, y_avggross_train, cv = 5, scoring = 'accuracy')\n",
    "\n",
    "#accuracy_selector.mean()\n",
    "#0.7527856692656523\n",
    "\n",
    "##save a best logistic regression model\n",
    "best_log=selector_model"
   ]
  },
  {
   "cell_type": "markdown",
   "metadata": {},
   "source": [
    "## 4) k-Nearest Neighbors\n",
    "K nearest neighbors model uses Euclidean distance to use n nearest neighbors to classify the instances which need to be predicted, so the categorical variables should be all transformed to label encoded form and the numerical variables should be scaled to make sure all the variables are same weighted.\n",
    "The best performance of these models is k = 31, the accuracy is : 0.6463317384370016."
   ]
  },
  {
   "cell_type": "code",
   "execution_count": 42,
   "metadata": {},
   "outputs": [],
   "source": [
    "grid_params = {\n",
    "    'n_neighbors':list(range(1,49,2)),\n",
    "    'weights':['uniform','distance'],\n",
    "    'metric':['euclidean','manhattan']\n",
    "}\n",
    "\n",
    "knn_gs = GridSearchCV(\n",
    "    KNeighborsClassifier(),\n",
    "    grid_params,\n",
    "    cv = 5,\n",
    "    n_jobs = -1\n",
    ")\n",
    "knn_gs_results = knn_gs.fit(X_avggross_train, y_avggross_train)\n",
    "\n",
    "#print(\"Best Parameters: \" + str(knn_gs_results.best_params_))\n",
    "#print('the best accurayc is: ',knn_gs_results.best_score_)\n",
    "#Best Parameters: {'metric': 'manhattan', 'n_neighbors': 31, 'weights': 'distance'}\n",
    "#the best accurayc is:  0.6463317384370016"
   ]
  },
  {
   "cell_type": "code",
   "execution_count": 43,
   "metadata": {},
   "outputs": [],
   "source": [
    "#Best model of kNN\n",
    "knn_best_model = knn_gs_results.best_estimator_"
   ]
  },
  {
   "cell_type": "markdown",
   "metadata": {},
   "source": [
    "## 5) SVM-Support Vector Machine\n",
    "For this part, we use SVM model to tarin the training data and predict on the test data.\n",
    "\n",
    "Support Vector Machine(SVM) is a supervised machine learning algorithm with associated learning algorithms which can be used for both classification or regression challenges. It is mostly used in solving the classification problems.\n",
    "\n",
    "An SVM model is a representation of the examples as points in space, mapped so that the examples of the separate categories are divided by a clear gap that is as wide as possible. New examples are then mapped into that same space and predicted to belong to a category based on the side of the gap on which they fall.\n",
    "\n",
    "In addition to performing linear classification, SVMs can efficiently perform a non-linear classification using what is called the kernel trick, implicitly mapping their inputs into high-dimensional feature spaces."
   ]
  },
  {
   "cell_type": "code",
   "execution_count": 44,
   "metadata": {},
   "outputs": [],
   "source": [
    "#Train a SVM Model\n",
    "param_grid = {'C':[1,5,10,15,20], # c and gamma are the key parameters to tune the model, c is usually 1\n",
    "             'gamma':[0.0001,0.001,0.01,0.1,1]} #set the parameters for the model and do a grid search\n",
    "clf=SVC(decision_function_shape='ovo') # the default classifier is \"rbf\"\n",
    "grid = GridSearchCV(clf, param_grid)\n",
    "grid.fit(X_avggross_train, y_avggross_train)\n",
    "\n",
    "#print(grid.best_params_)\n",
    "##{'C': 20, 'gamma': 0.0001}\n",
    "\n",
    "##Predict on the test \n",
    "best_svm = grid.best_estimator_"
   ]
  },
  {
   "cell_type": "code",
   "execution_count": 45,
   "metadata": {},
   "outputs": [],
   "source": [
    "cv = StratifiedKFold(n_splits=5, shuffle=True)#use cross validation to better adjust the model\n",
    "acc_svm=[]\n",
    "for (train, test), i in zip(cv.split(X_avggross_train,y_avggross_train), range(5)):\n",
    "    X_train, X_test = X_avggross_train.iloc[train], X_avggross_train.iloc[test]\n",
    "    y_train, y_test = y_avggross_train[train], y_avggross_train[test]\n",
    "    best_svm.fit(X_train,y_train)\n",
    "    y_pred=best_svm.predict(X_test)\n",
    "    acc_svm.append(accuracy_score(y_test,y_pred))# store the accuracy\n",
    "\n",
    "#np.mean(acc_svm)\n",
    "#0.7252892044082256"
   ]
  },
  {
   "cell_type": "markdown",
   "metadata": {},
   "source": [
    "## 6) Classification Tree\n",
    "Decision Trees are a non-parametric supervised learning method used for classification and regression. Decision Trees are also the fundamental components of Random Forests. <br>\n",
    "For this model, we need to classify the gross classes for each movie. Therefore we select DecisionTreeClassifier which is a class capable of performing multi-class classification on a dataset which is exactly what we need.<br>\n",
    "In this part we first train multiple DecisionTreeClassifier models to make predictions for the gross class for a given movie observation. And then save the DecisionTreeClassifier with the highest accuracy as the best DecisionTreeClassifier for further validation in test data.<br>\n",
    "<br>\n",
    "Parameters Definitions:\n",
    "* `criterion`: impurity measure, `entropy` or `gini` \n",
    "* `max_depth`: the maximum depth of the tree can be tuned to avoid overfitting\n",
    "* `max_leaf_nodes`: the maximum number of the leaf nodes. Each leaf node represents a class."
   ]
  },
  {
   "cell_type": "code",
   "execution_count": 46,
   "metadata": {},
   "outputs": [],
   "source": [
    "#Define hyperparameter and Tune with cross validation\n",
    "param_grid={'max_depth':np.arange(3,10),'criterion':['gini','entropy'],'max_leaf_nodes':np.arange(5,20)}\n",
    "clt_grid_model =GridSearchCV(DecisionTreeClassifier(random_state=12345),param_grid,cv=5,return_train_score=True)"
   ]
  },
  {
   "cell_type": "code",
   "execution_count": 47,
   "metadata": {},
   "outputs": [],
   "source": [
    "clt_grid_model.fit(X_avggross_train,y_avggross_train);\n",
    "clt_grid_acc=cross_val_score(clt_grid_model,X_avggross_train,y_avggross_train)\n",
    "#max(clt_grid_acc)\n",
    "#0.7852028639618138"
   ]
  },
  {
   "cell_type": "code",
   "execution_count": 48,
   "metadata": {},
   "outputs": [],
   "source": [
    "###Best CLT\n",
    "clt_best_model=DecisionTreeClassifier(criterion=clt_grid_model.best_params_['criterion'],max_depth=clt_grid_model.best_params_['max_depth'],max_leaf_nodes=clt_grid_model.best_params_['max_leaf_nodes'])"
   ]
  },
  {
   "cell_type": "markdown",
   "metadata": {},
   "source": [
    "## 7) Bagging\n",
    "A Bagging classifier is an ensemble meta-estimator that fits base classifiers each on random subsets of the original dataset and then aggregate their individual predictions (either by voting or by averaging) to form a final prediction. <br>\n",
    "There are multiple ways to get a diverse set of classifiers. One of them is to use very different training algorithms while another is to use the same training algorithm for every predictor and train them on different random subsets of the training set. When sampling with replacement, the method is called bagging while sampling without replacement is called pasting.<br> \n",
    "\n",
    "In this project, we use multiple DecisionTreeClassifier to train a bagging model or a pasting model which is more than halfway to Random Forest. And save a best BaggingClassifier in the end for further evaluation on test data. <br>\n",
    "<br>\n",
    "Grid Search Parameters Definitions:\n",
    "* `max_samples`: The number of samples to draw from X to train each base estimator.\n",
    "* `bootstrap`: sampling with or without replacement<br>"
   ]
  },
  {
   "cell_type": "code",
   "execution_count": 49,
   "metadata": {},
   "outputs": [],
   "source": [
    "bag_model=BaggingClassifier(DecisionTreeClassifier(random_state=12345,max_depth=5,criterion='gini',max_leaf_nodes=19),n_estimators=5,n_jobs=-1)\n",
    "param_grid={'max_samples':(1,10,100,200,300,400,500,600,700,800,900,1000),'bootstrap':(True,False)}\n",
    "bag_grid_model =GridSearchCV(bag_model,param_grid,cv=5,return_train_score=True)"
   ]
  },
  {
   "cell_type": "code",
   "execution_count": 50,
   "metadata": {},
   "outputs": [],
   "source": [
    "bag_grid_model.fit(X_avggross_train,y_avggross_train);\n",
    "bag_grid_acc=cross_val_score(bag_grid_model,X_avggross_train,y_avggross_train)\n",
    "\n",
    "#print(max(bag_grid_acc))\n",
    "#0.7983293556085919"
   ]
  },
  {
   "cell_type": "code",
   "execution_count": 51,
   "metadata": {},
   "outputs": [],
   "source": [
    "##Best Bagging Model\n",
    "bag_best_model=BaggingClassifier(DecisionTreeClassifier(criterion=clt_grid_model.best_params_['criterion'],max_depth=clt_grid_model.best_params_['max_depth'],max_leaf_nodes=clt_grid_model.best_params_['max_leaf_nodes']),max_samples=bag_grid_model.best_params_['max_samples'],bootstrap=bag_grid_model.best_params_['bootstrap'])"
   ]
  },
  {
   "cell_type": "markdown",
   "metadata": {},
   "source": [
    "## 8) Random Forest\n",
    "A Random Forest is a meta estimator that fits a number of decision tree classifiers on various sub-samples of the dataset and uses averaging to improve the predictive accuracy and control over-fitting. A Random Forest is also an ensemble of Decision Trees, generally trained via bagging method(or sometimes pasting).<br>\n",
    "In this project we use grid search to train multiple RandomForestClassifier and store the one with the highest accuracy as our best RandomForestClassier for further evaluation in the test data.<br>\n",
    "<br>\n",
    "Grid Search Parameters:\n",
    "* `n_estimators`: the number of base estimators in the ensemble\n",
    "* `max_samples`: The number of samples to draw from X to train each base estimator.\n",
    "* `bootstrap`: sampling with or withour replacement"
   ]
  },
  {
   "cell_type": "code",
   "execution_count": 52,
   "metadata": {},
   "outputs": [],
   "source": [
    "#Define random forest model and train\n",
    "rf_model=RandomForestClassifier(random_state=12345,n_jobs=-1,max_depth=5,criterion='gini',max_leaf_nodes=19)\n",
    "param_grid={'min_samples_split':np.arange(500,2000,100),'bootstrap':(True,False),'n_estimators':np.arange(5,10)}\n",
    "rf_grid_model =GridSearchCV(rf_model,param_grid,cv=5,return_train_score=True)"
   ]
  },
  {
   "cell_type": "code",
   "execution_count": 53,
   "metadata": {},
   "outputs": [],
   "source": [
    "#fit the model to the training data\n",
    "rf_grid_model.fit(X_avggross_train,y_avggross_train);"
   ]
  },
  {
   "cell_type": "code",
   "execution_count": 54,
   "metadata": {},
   "outputs": [],
   "source": [
    "###Best RF Model\n",
    "rf_best_model=RandomForestClassifier(random_state=12345,bootstrap= False,min_samples_split=500,n_estimators=9,n_jobs=-1,max_depth=5,criterion='entropy')"
   ]
  },
  {
   "cell_type": "code",
   "execution_count": 55,
   "metadata": {},
   "outputs": [],
   "source": [
    "###Find the accuracy of best RF Model\n",
    "cv = StratifiedKFold(n_splits=5, shuffle=True)\n",
    "acc=[]\n",
    "for (train, test), i in zip(cv.split(X_avggross_train,y_avggross_train), range(5)):\n",
    "    X_train, X_test = X_avggross_train.iloc[train], X_avggross_train.iloc[test]\n",
    "    y_train, y_test = y_avggross_train[train], y_avggross_train[test]\n",
    "    rf_best_model.fit(X_train,y_train)\n",
    "    y_pred=rf_best_model.predict(X_test)\n",
    "    acc.append(accuracy_score(y_test,y_pred))\n",
    "    \n",
    "#print(f'The accuracy for this model is {np.mean(acc)}.')\n",
    "#The accuracy for this model is 0.7715425840832573."
   ]
  },
  {
   "cell_type": "markdown",
   "metadata": {},
   "source": [
    "## 9) Boosting\n",
    "An `AdaBoostClassifier` is a meta-estimator that begins by fitting a classifier on the original dataset and then fits additional copies of the classifier on the same dataset but where the weights of incorrectly classified instances are adjusted such that subsequent classifiers focus more on difficult cases. The general idea of most boosting methods is to train predictors sequetially, each trying to correct its predecessor.<br>\n",
    "In this model, we use `AdaboostClassifier` which outputs multiclass classification. When training `AdaboostClassifier`, the algorithm first trains a base classifier and uses it to make predictions on the training set. The algorithm then increases the relative weight of misclassified training instances and so on.<br>\n",
    "In this project, we use grid search to train multiple `AdaBoostClassifier` and store the one with the highest accuracy as our best `AdaBoostClassifier` for further evaluation in the test data.<br>\n",
    "<br>\n",
    "Grid Search Parameters:\n",
    "* `algorithm`{'SAMME', 'SAMME.R'}: SAMME.R uses real boosting algorithm supporting the calculation of class probabilities. 'SAMME' uses the SAMME discrete boosting algorithm. The SAMME.R algorithm typically converges faster than SAMME, achieving a lower test error with fewer boosting iterations.\n",
    "* `n_estimators`: the number of base estimators in the ensemble\n",
    "* `learning_rate`: learning rate shrinks the contribution of each classifier by learning_rate\n",
    "* There is a trade-off between learning_rate and n_estimators.\n",
    "\n"
   ]
  },
  {
   "cell_type": "code",
   "execution_count": 56,
   "metadata": {},
   "outputs": [],
   "source": [
    "adaboost=AdaBoostClassifier(DecisionTreeClassifier(max_leaf_nodes=19,max_depth=5,criterion='entropy'),algorithm=\"SAMME.R\")\n",
    "param_grid={'learning_rate':(0.5,1),'n_estimators':np.arange(5,10)}\n",
    "ada_grid_model=GridSearchCV(adaboost,param_grid,cv=5,return_train_score=True)"
   ]
  },
  {
   "cell_type": "code",
   "execution_count": 57,
   "metadata": {},
   "outputs": [],
   "source": [
    "ada_grid_model.fit(X_avggross_train,y_avggross_train);\n",
    "\n",
    "#print(max(cross_val_score(ada_grid_model,X_avggross_train,y_avggross_train)))\n",
    "#0.7040572792362768"
   ]
  },
  {
   "cell_type": "code",
   "execution_count": 58,
   "metadata": {},
   "outputs": [],
   "source": [
    "###Best Boosting\n",
    "ada_best_model=AdaBoostClassifier(DecisionTreeClassifier(criterion=clt_grid_model.best_params_['criterion'],max_depth=clt_grid_model.best_params_['max_depth'],max_leaf_nodes=clt_grid_model.best_params_['max_leaf_nodes']),algorithm=\"SAMME.R\",learning_rate=ada_grid_model.best_params_['learning_rate'],n_estimators=ada_grid_model.best_params_['n_estimators'])"
   ]
  },
  {
   "cell_type": "markdown",
   "metadata": {},
   "source": [
    "## 10) Voting\n",
    "The idea behind the `VotingClassifier` is to combine different machine learning classifiers and use a majority vote or the average predicted probabilities to predict the class labels. There are two kinds of `VotingClassifier`. The first one is `Hard Voting` which is to predict the label by majority vote for each class. The second one is `Soft Voting` which is to predict the class label as argmax of the sum of predicted probabilities.<br>\n",
    "In this project we use grid search to train multiple VotingClassifier and store the one with the highest accuracy as our best VotingClassifier for further evaluation in test data.<br>\n",
    "<br>\n",
    "Grid Search Parameters:\n",
    "* `voting`: {hard or soft} for classify based on majority votes or predicted probabilities"
   ]
  },
  {
   "cell_type": "code",
   "execution_count": 59,
   "metadata": {},
   "outputs": [],
   "source": [
    "#Using hard voting\n",
    "voting_hard_clf=VotingClassifier(estimators=[('DTC',clt_best_model),('RF',rf_best_model),('ABC',ada_best_model),('BG',bag_best_model)],voting='hard')"
   ]
  },
  {
   "cell_type": "code",
   "execution_count": 60,
   "metadata": {},
   "outputs": [],
   "source": [
    "#Using soft voting\n",
    "voting_soft_clf=VotingClassifier(estimators=[('DTC',clt_best_model),('RF',rf_best_model),('ABC',ada_best_model),('BG',bag_best_model)],voting='soft')"
   ]
  },
  {
   "cell_type": "markdown",
   "metadata": {},
   "source": [
    "### 10.1) Hard Voting"
   ]
  },
  {
   "cell_type": "code",
   "execution_count": 61,
   "metadata": {},
   "outputs": [],
   "source": [
    "cv = StratifiedKFold(n_splits=5, shuffle=True)\n",
    "hard_acc=[]\n",
    "for (train, test), i in zip(cv.split(X_avggross_train,y_avggross_train), range(5)):\n",
    "    X_train, X_test = X_avggross_train.iloc[train], X_avggross_train.iloc[test]\n",
    "    y_train, y_test = y_avggross_train[train], y_avggross_train[test]\n",
    "    voting_hard_clf.fit(X_train,y_train)\n",
    "    y_pred=voting_hard_clf.predict(X_test)\n",
    "    hard_acc.append(accuracy_score(y_test,y_pred))\n",
    "    \n",
    "#np.mean(hard_acc) \n",
    "#0.7954502201667016"
   ]
  },
  {
   "cell_type": "markdown",
   "metadata": {},
   "source": [
    "### 10.2) Soft Vote"
   ]
  },
  {
   "cell_type": "code",
   "execution_count": 62,
   "metadata": {},
   "outputs": [],
   "source": [
    "cv = StratifiedKFold(n_splits=5, shuffle=True)\n",
    "soft_acc=[]\n",
    "for (train, test), i in zip(cv.split(X_avggross_train,y_avggross_train), range(5)):\n",
    "    X_train, X_test = X_avggross_train.iloc[train], X_avggross_train.iloc[test]\n",
    "    y_train, y_test = y_avggross_train[train], y_avggross_train[test]\n",
    "    voting_soft_clf.fit(X_train,y_train)\n",
    "    y_pred=voting_soft_clf.predict(X_test)\n",
    "    soft_acc.append(accuracy_score(y_test,y_pred))\n",
    "\n",
    "#np.mean(soft_acc) \n",
    "#0.7974398790199693"
   ]
  },
  {
   "cell_type": "markdown",
   "metadata": {},
   "source": [
    "# Test\n",
    "In this part, we evaluate all our best models that are saved in the training process in the test data. And save the model as a static model for later use in the service of our client.<br>\n",
    "While for the processing purpose, the best model can either be saved or not since we can directly use the final best model into our client service demo process. <br>\n",
    "<br>\n",
    "The process in this part include:\n",
    "* Evaluate our model in the test data.\n",
    "* Output which is the best model.\n",
    "* Save the model for later service to our clients.  \n",
    "\n",
    "*-**Note:** Plot below is a dynamic plot, if you cannot see it in this Jupyter Notebook, please feel free to check our HTML file.*"
   ]
  },
  {
   "cell_type": "code",
   "execution_count": 63,
   "metadata": {},
   "outputs": [],
   "source": [
    "#evaluate all the models\n",
    "model_name_list=['LogisticRegression','KNeighboourRegressor','Support Vector Classifier','DecisionTreeClassifier','RandomForestClassifier','AdaBoostClassifier','BaggingClassifier','VotingSoftClassifier','VotingHardClassifier']\n",
    "acc=[]\n",
    "model_list=[best_log,knn_best_model,best_svm,clt_best_model,rf_best_model,ada_best_model,bag_best_model,voting_soft_clf,voting_hard_clf]\n",
    "for name,model in zip(model_name_list,model_list):\n",
    "    model.fit(X_avggross_train,y_avggross_train);\n",
    "    y_pred=model.predict(X_avggross_test)\n",
    "    acc.append(accuracy_score(y_avggross_test,y_pred))\n",
    "    best_acc_index=acc.index(max(acc))\n",
    "    \n",
    "sevice_model=model_list[best_acc_index]"
   ]
  },
  {
   "cell_type": "code",
   "execution_count": 64,
   "metadata": {},
   "outputs": [
    {
     "data": {
      "application/vnd.plotly.v1+json": {
       "config": {
        "linkText": "Export to plot.ly",
        "plotlyServerURL": "https://plot.ly",
        "showLink": false
       },
       "data": [
        {
         "cells": {
          "align": [
           "center"
          ],
          "fill": {
           "color": "#EDFAFF"
          },
          "font": {
           "size": 12
          },
          "line": {
           "color": "#7D7F80"
          },
          "values": [
           [
            "LogisticRegression",
            "KNeighbourRegressor",
            "Support Vector Classifier",
            "DecisionTreeClassifier",
            "RandomForestClassifier",
            "AdaBoostClassifier",
            "BaggingClassifier",
            "VotingSoftClassifier",
            "VotingHardClassifier",
            "BestModel:RandomForestClassifier"
           ],
           [
            0.756505576208,
            0.653345724907,
            0.722118959108,
            0.764869888476,
            0.776022304833,
            0.736988847584,
            0.773234200743,
            0.767657992565,
            0.774163568773,
            0.776022304833
           ]
          ]
         },
         "header": {
          "align": [
           "center"
          ],
          "fill": {
           "color": "#546d87"
          },
          "font": {
           "color": "burlywood",
           "size": 15
          },
          "line": {
           "color": "#7D7F80"
          },
          "values": [
           "<b>Model",
           "<b>Accuracy"
          ]
         },
         "type": "table"
        }
       ],
       "layout": {
        "font": {
         "size": 15
        },
        "height": 500,
        "template": {
         "data": {
          "bar": [
           {
            "error_x": {
             "color": "#2a3f5f"
            },
            "error_y": {
             "color": "#2a3f5f"
            },
            "marker": {
             "line": {
              "color": "#E5ECF6",
              "width": 0.5
             }
            },
            "type": "bar"
           }
          ],
          "barpolar": [
           {
            "marker": {
             "line": {
              "color": "#E5ECF6",
              "width": 0.5
             }
            },
            "type": "barpolar"
           }
          ],
          "carpet": [
           {
            "aaxis": {
             "endlinecolor": "#2a3f5f",
             "gridcolor": "white",
             "linecolor": "white",
             "minorgridcolor": "white",
             "startlinecolor": "#2a3f5f"
            },
            "baxis": {
             "endlinecolor": "#2a3f5f",
             "gridcolor": "white",
             "linecolor": "white",
             "minorgridcolor": "white",
             "startlinecolor": "#2a3f5f"
            },
            "type": "carpet"
           }
          ],
          "choropleth": [
           {
            "colorbar": {
             "outlinewidth": 0,
             "ticks": ""
            },
            "type": "choropleth"
           }
          ],
          "contour": [
           {
            "colorbar": {
             "outlinewidth": 0,
             "ticks": ""
            },
            "colorscale": [
             [
              0,
              "#0d0887"
             ],
             [
              0.1111111111111111,
              "#46039f"
             ],
             [
              0.2222222222222222,
              "#7201a8"
             ],
             [
              0.3333333333333333,
              "#9c179e"
             ],
             [
              0.4444444444444444,
              "#bd3786"
             ],
             [
              0.5555555555555556,
              "#d8576b"
             ],
             [
              0.6666666666666666,
              "#ed7953"
             ],
             [
              0.7777777777777778,
              "#fb9f3a"
             ],
             [
              0.8888888888888888,
              "#fdca26"
             ],
             [
              1,
              "#f0f921"
             ]
            ],
            "type": "contour"
           }
          ],
          "contourcarpet": [
           {
            "colorbar": {
             "outlinewidth": 0,
             "ticks": ""
            },
            "type": "contourcarpet"
           }
          ],
          "heatmap": [
           {
            "colorbar": {
             "outlinewidth": 0,
             "ticks": ""
            },
            "colorscale": [
             [
              0,
              "#0d0887"
             ],
             [
              0.1111111111111111,
              "#46039f"
             ],
             [
              0.2222222222222222,
              "#7201a8"
             ],
             [
              0.3333333333333333,
              "#9c179e"
             ],
             [
              0.4444444444444444,
              "#bd3786"
             ],
             [
              0.5555555555555556,
              "#d8576b"
             ],
             [
              0.6666666666666666,
              "#ed7953"
             ],
             [
              0.7777777777777778,
              "#fb9f3a"
             ],
             [
              0.8888888888888888,
              "#fdca26"
             ],
             [
              1,
              "#f0f921"
             ]
            ],
            "type": "heatmap"
           }
          ],
          "heatmapgl": [
           {
            "colorbar": {
             "outlinewidth": 0,
             "ticks": ""
            },
            "colorscale": [
             [
              0,
              "#0d0887"
             ],
             [
              0.1111111111111111,
              "#46039f"
             ],
             [
              0.2222222222222222,
              "#7201a8"
             ],
             [
              0.3333333333333333,
              "#9c179e"
             ],
             [
              0.4444444444444444,
              "#bd3786"
             ],
             [
              0.5555555555555556,
              "#d8576b"
             ],
             [
              0.6666666666666666,
              "#ed7953"
             ],
             [
              0.7777777777777778,
              "#fb9f3a"
             ],
             [
              0.8888888888888888,
              "#fdca26"
             ],
             [
              1,
              "#f0f921"
             ]
            ],
            "type": "heatmapgl"
           }
          ],
          "histogram": [
           {
            "marker": {
             "colorbar": {
              "outlinewidth": 0,
              "ticks": ""
             }
            },
            "type": "histogram"
           }
          ],
          "histogram2d": [
           {
            "colorbar": {
             "outlinewidth": 0,
             "ticks": ""
            },
            "colorscale": [
             [
              0,
              "#0d0887"
             ],
             [
              0.1111111111111111,
              "#46039f"
             ],
             [
              0.2222222222222222,
              "#7201a8"
             ],
             [
              0.3333333333333333,
              "#9c179e"
             ],
             [
              0.4444444444444444,
              "#bd3786"
             ],
             [
              0.5555555555555556,
              "#d8576b"
             ],
             [
              0.6666666666666666,
              "#ed7953"
             ],
             [
              0.7777777777777778,
              "#fb9f3a"
             ],
             [
              0.8888888888888888,
              "#fdca26"
             ],
             [
              1,
              "#f0f921"
             ]
            ],
            "type": "histogram2d"
           }
          ],
          "histogram2dcontour": [
           {
            "colorbar": {
             "outlinewidth": 0,
             "ticks": ""
            },
            "colorscale": [
             [
              0,
              "#0d0887"
             ],
             [
              0.1111111111111111,
              "#46039f"
             ],
             [
              0.2222222222222222,
              "#7201a8"
             ],
             [
              0.3333333333333333,
              "#9c179e"
             ],
             [
              0.4444444444444444,
              "#bd3786"
             ],
             [
              0.5555555555555556,
              "#d8576b"
             ],
             [
              0.6666666666666666,
              "#ed7953"
             ],
             [
              0.7777777777777778,
              "#fb9f3a"
             ],
             [
              0.8888888888888888,
              "#fdca26"
             ],
             [
              1,
              "#f0f921"
             ]
            ],
            "type": "histogram2dcontour"
           }
          ],
          "mesh3d": [
           {
            "colorbar": {
             "outlinewidth": 0,
             "ticks": ""
            },
            "type": "mesh3d"
           }
          ],
          "parcoords": [
           {
            "line": {
             "colorbar": {
              "outlinewidth": 0,
              "ticks": ""
             }
            },
            "type": "parcoords"
           }
          ],
          "pie": [
           {
            "automargin": true,
            "type": "pie"
           }
          ],
          "scatter": [
           {
            "marker": {
             "colorbar": {
              "outlinewidth": 0,
              "ticks": ""
             }
            },
            "type": "scatter"
           }
          ],
          "scatter3d": [
           {
            "line": {
             "colorbar": {
              "outlinewidth": 0,
              "ticks": ""
             }
            },
            "marker": {
             "colorbar": {
              "outlinewidth": 0,
              "ticks": ""
             }
            },
            "type": "scatter3d"
           }
          ],
          "scattercarpet": [
           {
            "marker": {
             "colorbar": {
              "outlinewidth": 0,
              "ticks": ""
             }
            },
            "type": "scattercarpet"
           }
          ],
          "scattergeo": [
           {
            "marker": {
             "colorbar": {
              "outlinewidth": 0,
              "ticks": ""
             }
            },
            "type": "scattergeo"
           }
          ],
          "scattergl": [
           {
            "marker": {
             "colorbar": {
              "outlinewidth": 0,
              "ticks": ""
             }
            },
            "type": "scattergl"
           }
          ],
          "scattermapbox": [
           {
            "marker": {
             "colorbar": {
              "outlinewidth": 0,
              "ticks": ""
             }
            },
            "type": "scattermapbox"
           }
          ],
          "scatterpolar": [
           {
            "marker": {
             "colorbar": {
              "outlinewidth": 0,
              "ticks": ""
             }
            },
            "type": "scatterpolar"
           }
          ],
          "scatterpolargl": [
           {
            "marker": {
             "colorbar": {
              "outlinewidth": 0,
              "ticks": ""
             }
            },
            "type": "scatterpolargl"
           }
          ],
          "scatterternary": [
           {
            "marker": {
             "colorbar": {
              "outlinewidth": 0,
              "ticks": ""
             }
            },
            "type": "scatterternary"
           }
          ],
          "surface": [
           {
            "colorbar": {
             "outlinewidth": 0,
             "ticks": ""
            },
            "colorscale": [
             [
              0,
              "#0d0887"
             ],
             [
              0.1111111111111111,
              "#46039f"
             ],
             [
              0.2222222222222222,
              "#7201a8"
             ],
             [
              0.3333333333333333,
              "#9c179e"
             ],
             [
              0.4444444444444444,
              "#bd3786"
             ],
             [
              0.5555555555555556,
              "#d8576b"
             ],
             [
              0.6666666666666666,
              "#ed7953"
             ],
             [
              0.7777777777777778,
              "#fb9f3a"
             ],
             [
              0.8888888888888888,
              "#fdca26"
             ],
             [
              1,
              "#f0f921"
             ]
            ],
            "type": "surface"
           }
          ],
          "table": [
           {
            "cells": {
             "fill": {
              "color": "#EBF0F8"
             },
             "line": {
              "color": "white"
             }
            },
            "header": {
             "fill": {
              "color": "#C8D4E3"
             },
             "line": {
              "color": "white"
             }
            },
            "type": "table"
           }
          ]
         },
         "layout": {
          "annotationdefaults": {
           "arrowcolor": "#2a3f5f",
           "arrowhead": 0,
           "arrowwidth": 1
          },
          "coloraxis": {
           "colorbar": {
            "outlinewidth": 0,
            "ticks": ""
           }
          },
          "colorscale": {
           "diverging": [
            [
             0,
             "#8e0152"
            ],
            [
             0.1,
             "#c51b7d"
            ],
            [
             0.2,
             "#de77ae"
            ],
            [
             0.3,
             "#f1b6da"
            ],
            [
             0.4,
             "#fde0ef"
            ],
            [
             0.5,
             "#f7f7f7"
            ],
            [
             0.6,
             "#e6f5d0"
            ],
            [
             0.7,
             "#b8e186"
            ],
            [
             0.8,
             "#7fbc41"
            ],
            [
             0.9,
             "#4d9221"
            ],
            [
             1,
             "#276419"
            ]
           ],
           "sequential": [
            [
             0,
             "#0d0887"
            ],
            [
             0.1111111111111111,
             "#46039f"
            ],
            [
             0.2222222222222222,
             "#7201a8"
            ],
            [
             0.3333333333333333,
             "#9c179e"
            ],
            [
             0.4444444444444444,
             "#bd3786"
            ],
            [
             0.5555555555555556,
             "#d8576b"
            ],
            [
             0.6666666666666666,
             "#ed7953"
            ],
            [
             0.7777777777777778,
             "#fb9f3a"
            ],
            [
             0.8888888888888888,
             "#fdca26"
            ],
            [
             1,
             "#f0f921"
            ]
           ],
           "sequentialminus": [
            [
             0,
             "#0d0887"
            ],
            [
             0.1111111111111111,
             "#46039f"
            ],
            [
             0.2222222222222222,
             "#7201a8"
            ],
            [
             0.3333333333333333,
             "#9c179e"
            ],
            [
             0.4444444444444444,
             "#bd3786"
            ],
            [
             0.5555555555555556,
             "#d8576b"
            ],
            [
             0.6666666666666666,
             "#ed7953"
            ],
            [
             0.7777777777777778,
             "#fb9f3a"
            ],
            [
             0.8888888888888888,
             "#fdca26"
            ],
            [
             1,
             "#f0f921"
            ]
           ]
          },
          "colorway": [
           "#636efa",
           "#EF553B",
           "#00cc96",
           "#ab63fa",
           "#FFA15A",
           "#19d3f3",
           "#FF6692",
           "#B6E880",
           "#FF97FF",
           "#FECB52"
          ],
          "font": {
           "color": "#2a3f5f"
          },
          "geo": {
           "bgcolor": "white",
           "lakecolor": "white",
           "landcolor": "#E5ECF6",
           "showlakes": true,
           "showland": true,
           "subunitcolor": "white"
          },
          "hoverlabel": {
           "align": "left"
          },
          "hovermode": "closest",
          "mapbox": {
           "style": "light"
          },
          "paper_bgcolor": "white",
          "plot_bgcolor": "#E5ECF6",
          "polar": {
           "angularaxis": {
            "gridcolor": "white",
            "linecolor": "white",
            "ticks": ""
           },
           "bgcolor": "#E5ECF6",
           "radialaxis": {
            "gridcolor": "white",
            "linecolor": "white",
            "ticks": ""
           }
          },
          "scene": {
           "xaxis": {
            "backgroundcolor": "#E5ECF6",
            "gridcolor": "white",
            "gridwidth": 2,
            "linecolor": "white",
            "showbackground": true,
            "ticks": "",
            "zerolinecolor": "white"
           },
           "yaxis": {
            "backgroundcolor": "#E5ECF6",
            "gridcolor": "white",
            "gridwidth": 2,
            "linecolor": "white",
            "showbackground": true,
            "ticks": "",
            "zerolinecolor": "white"
           },
           "zaxis": {
            "backgroundcolor": "#E5ECF6",
            "gridcolor": "white",
            "gridwidth": 2,
            "linecolor": "white",
            "showbackground": true,
            "ticks": "",
            "zerolinecolor": "white"
           }
          },
          "shapedefaults": {
           "line": {
            "color": "#2a3f5f"
           }
          },
          "ternary": {
           "aaxis": {
            "gridcolor": "white",
            "linecolor": "white",
            "ticks": ""
           },
           "baxis": {
            "gridcolor": "white",
            "linecolor": "white",
            "ticks": ""
           },
           "bgcolor": "#E5ECF6",
           "caxis": {
            "gridcolor": "white",
            "linecolor": "white",
            "ticks": ""
           }
          },
          "title": {
           "x": 0.05
          },
          "xaxis": {
           "automargin": true,
           "gridcolor": "white",
           "linecolor": "white",
           "ticks": "",
           "title": {
            "standoff": 15
           },
           "zerolinecolor": "white",
           "zerolinewidth": 2
          },
          "yaxis": {
           "automargin": true,
           "gridcolor": "white",
           "linecolor": "white",
           "ticks": "",
           "title": {
            "standoff": 15
           },
           "zerolinecolor": "white",
           "zerolinewidth": 2
          }
         }
        },
        "title": {
         "text": "<b>Model Evaluation</b><br>"
        },
        "width": 800
       }
      },
      "text/html": [
       "<div>\n",
       "        \n",
       "        \n",
       "            <div id=\"b93e3867-ba3c-4e94-915a-e5c85f63944d\" class=\"plotly-graph-div\" style=\"height:500px; width:800px;\"></div>\n",
       "            <script type=\"text/javascript\">\n",
       "                require([\"plotly\"], function(Plotly) {\n",
       "                    window.PLOTLYENV=window.PLOTLYENV || {};\n",
       "                    \n",
       "                if (document.getElementById(\"b93e3867-ba3c-4e94-915a-e5c85f63944d\")) {\n",
       "                    Plotly.newPlot(\n",
       "                        'b93e3867-ba3c-4e94-915a-e5c85f63944d',\n",
       "                        [{\"cells\": {\"align\": [\"center\"], \"fill\": {\"color\": \"#EDFAFF\"}, \"font\": {\"size\": 12}, \"line\": {\"color\": \"#7D7F80\"}, \"values\": [[\"LogisticRegression\", \"KNeighbourRegressor\", \"Support Vector Classifier\", \"DecisionTreeClassifier\", \"RandomForestClassifier\", \"AdaBoostClassifier\", \"BaggingClassifier\", \"VotingSoftClassifier\", \"VotingHardClassifier\", \"BestModel:RandomForestClassifier\"], [0.756505576208, 0.653345724907, 0.722118959108, 0.764869888476, 0.776022304833, 0.736988847584, 0.773234200743, 0.767657992565, 0.774163568773, 0.776022304833]]}, \"header\": {\"align\": [\"center\"], \"fill\": {\"color\": \"#546d87\"}, \"font\": {\"color\": \"burlywood\", \"size\": 15}, \"line\": {\"color\": \"#7D7F80\"}, \"values\": [\"<b>Model\", \"<b>Accuracy\"]}, \"type\": \"table\"}],\n",
       "                        {\"font\": {\"size\": 15}, \"height\": 500, \"template\": {\"data\": {\"bar\": [{\"error_x\": {\"color\": \"#2a3f5f\"}, \"error_y\": {\"color\": \"#2a3f5f\"}, \"marker\": {\"line\": {\"color\": \"#E5ECF6\", \"width\": 0.5}}, \"type\": \"bar\"}], \"barpolar\": [{\"marker\": {\"line\": {\"color\": \"#E5ECF6\", \"width\": 0.5}}, \"type\": \"barpolar\"}], \"carpet\": [{\"aaxis\": {\"endlinecolor\": \"#2a3f5f\", \"gridcolor\": \"white\", \"linecolor\": \"white\", \"minorgridcolor\": \"white\", \"startlinecolor\": \"#2a3f5f\"}, \"baxis\": {\"endlinecolor\": \"#2a3f5f\", \"gridcolor\": \"white\", \"linecolor\": \"white\", \"minorgridcolor\": \"white\", \"startlinecolor\": \"#2a3f5f\"}, \"type\": \"carpet\"}], \"choropleth\": [{\"colorbar\": {\"outlinewidth\": 0, \"ticks\": \"\"}, \"type\": \"choropleth\"}], \"contour\": [{\"colorbar\": {\"outlinewidth\": 0, \"ticks\": \"\"}, \"colorscale\": [[0.0, \"#0d0887\"], [0.1111111111111111, \"#46039f\"], [0.2222222222222222, \"#7201a8\"], [0.3333333333333333, \"#9c179e\"], [0.4444444444444444, \"#bd3786\"], [0.5555555555555556, \"#d8576b\"], [0.6666666666666666, \"#ed7953\"], [0.7777777777777778, \"#fb9f3a\"], [0.8888888888888888, \"#fdca26\"], [1.0, \"#f0f921\"]], \"type\": \"contour\"}], \"contourcarpet\": [{\"colorbar\": {\"outlinewidth\": 0, \"ticks\": \"\"}, \"type\": \"contourcarpet\"}], \"heatmap\": [{\"colorbar\": {\"outlinewidth\": 0, \"ticks\": \"\"}, \"colorscale\": [[0.0, \"#0d0887\"], [0.1111111111111111, \"#46039f\"], [0.2222222222222222, \"#7201a8\"], [0.3333333333333333, \"#9c179e\"], [0.4444444444444444, \"#bd3786\"], [0.5555555555555556, \"#d8576b\"], [0.6666666666666666, \"#ed7953\"], [0.7777777777777778, \"#fb9f3a\"], [0.8888888888888888, \"#fdca26\"], [1.0, \"#f0f921\"]], \"type\": \"heatmap\"}], \"heatmapgl\": [{\"colorbar\": {\"outlinewidth\": 0, \"ticks\": \"\"}, \"colorscale\": [[0.0, \"#0d0887\"], [0.1111111111111111, \"#46039f\"], [0.2222222222222222, \"#7201a8\"], [0.3333333333333333, \"#9c179e\"], [0.4444444444444444, \"#bd3786\"], [0.5555555555555556, \"#d8576b\"], [0.6666666666666666, \"#ed7953\"], [0.7777777777777778, \"#fb9f3a\"], [0.8888888888888888, \"#fdca26\"], [1.0, \"#f0f921\"]], \"type\": \"heatmapgl\"}], \"histogram\": [{\"marker\": {\"colorbar\": {\"outlinewidth\": 0, \"ticks\": \"\"}}, \"type\": \"histogram\"}], \"histogram2d\": [{\"colorbar\": {\"outlinewidth\": 0, \"ticks\": \"\"}, \"colorscale\": [[0.0, \"#0d0887\"], [0.1111111111111111, \"#46039f\"], [0.2222222222222222, \"#7201a8\"], [0.3333333333333333, \"#9c179e\"], [0.4444444444444444, \"#bd3786\"], [0.5555555555555556, \"#d8576b\"], [0.6666666666666666, \"#ed7953\"], [0.7777777777777778, \"#fb9f3a\"], [0.8888888888888888, \"#fdca26\"], [1.0, \"#f0f921\"]], \"type\": \"histogram2d\"}], \"histogram2dcontour\": [{\"colorbar\": {\"outlinewidth\": 0, \"ticks\": \"\"}, \"colorscale\": [[0.0, \"#0d0887\"], [0.1111111111111111, \"#46039f\"], [0.2222222222222222, \"#7201a8\"], [0.3333333333333333, \"#9c179e\"], [0.4444444444444444, \"#bd3786\"], [0.5555555555555556, \"#d8576b\"], [0.6666666666666666, \"#ed7953\"], [0.7777777777777778, \"#fb9f3a\"], [0.8888888888888888, \"#fdca26\"], [1.0, \"#f0f921\"]], \"type\": \"histogram2dcontour\"}], \"mesh3d\": [{\"colorbar\": {\"outlinewidth\": 0, \"ticks\": \"\"}, \"type\": \"mesh3d\"}], \"parcoords\": [{\"line\": {\"colorbar\": {\"outlinewidth\": 0, \"ticks\": \"\"}}, \"type\": \"parcoords\"}], \"pie\": [{\"automargin\": true, \"type\": \"pie\"}], \"scatter\": [{\"marker\": {\"colorbar\": {\"outlinewidth\": 0, \"ticks\": \"\"}}, \"type\": \"scatter\"}], \"scatter3d\": [{\"line\": {\"colorbar\": {\"outlinewidth\": 0, \"ticks\": \"\"}}, \"marker\": {\"colorbar\": {\"outlinewidth\": 0, \"ticks\": \"\"}}, \"type\": \"scatter3d\"}], \"scattercarpet\": [{\"marker\": {\"colorbar\": {\"outlinewidth\": 0, \"ticks\": \"\"}}, \"type\": \"scattercarpet\"}], \"scattergeo\": [{\"marker\": {\"colorbar\": {\"outlinewidth\": 0, \"ticks\": \"\"}}, \"type\": \"scattergeo\"}], \"scattergl\": [{\"marker\": {\"colorbar\": {\"outlinewidth\": 0, \"ticks\": \"\"}}, \"type\": \"scattergl\"}], \"scattermapbox\": [{\"marker\": {\"colorbar\": {\"outlinewidth\": 0, \"ticks\": \"\"}}, \"type\": \"scattermapbox\"}], \"scatterpolar\": [{\"marker\": {\"colorbar\": {\"outlinewidth\": 0, \"ticks\": \"\"}}, \"type\": \"scatterpolar\"}], \"scatterpolargl\": [{\"marker\": {\"colorbar\": {\"outlinewidth\": 0, \"ticks\": \"\"}}, \"type\": \"scatterpolargl\"}], \"scatterternary\": [{\"marker\": {\"colorbar\": {\"outlinewidth\": 0, \"ticks\": \"\"}}, \"type\": \"scatterternary\"}], \"surface\": [{\"colorbar\": {\"outlinewidth\": 0, \"ticks\": \"\"}, \"colorscale\": [[0.0, \"#0d0887\"], [0.1111111111111111, \"#46039f\"], [0.2222222222222222, \"#7201a8\"], [0.3333333333333333, \"#9c179e\"], [0.4444444444444444, \"#bd3786\"], [0.5555555555555556, \"#d8576b\"], [0.6666666666666666, \"#ed7953\"], [0.7777777777777778, \"#fb9f3a\"], [0.8888888888888888, \"#fdca26\"], [1.0, \"#f0f921\"]], \"type\": \"surface\"}], \"table\": [{\"cells\": {\"fill\": {\"color\": \"#EBF0F8\"}, \"line\": {\"color\": \"white\"}}, \"header\": {\"fill\": {\"color\": \"#C8D4E3\"}, \"line\": {\"color\": \"white\"}}, \"type\": \"table\"}]}, \"layout\": {\"annotationdefaults\": {\"arrowcolor\": \"#2a3f5f\", \"arrowhead\": 0, \"arrowwidth\": 1}, \"coloraxis\": {\"colorbar\": {\"outlinewidth\": 0, \"ticks\": \"\"}}, \"colorscale\": {\"diverging\": [[0, \"#8e0152\"], [0.1, \"#c51b7d\"], [0.2, \"#de77ae\"], [0.3, \"#f1b6da\"], [0.4, \"#fde0ef\"], [0.5, \"#f7f7f7\"], [0.6, \"#e6f5d0\"], [0.7, \"#b8e186\"], [0.8, \"#7fbc41\"], [0.9, \"#4d9221\"], [1, \"#276419\"]], \"sequential\": [[0.0, \"#0d0887\"], [0.1111111111111111, \"#46039f\"], [0.2222222222222222, \"#7201a8\"], [0.3333333333333333, \"#9c179e\"], [0.4444444444444444, \"#bd3786\"], [0.5555555555555556, \"#d8576b\"], [0.6666666666666666, \"#ed7953\"], [0.7777777777777778, \"#fb9f3a\"], [0.8888888888888888, \"#fdca26\"], [1.0, \"#f0f921\"]], \"sequentialminus\": [[0.0, \"#0d0887\"], [0.1111111111111111, \"#46039f\"], [0.2222222222222222, \"#7201a8\"], [0.3333333333333333, \"#9c179e\"], [0.4444444444444444, \"#bd3786\"], [0.5555555555555556, \"#d8576b\"], [0.6666666666666666, \"#ed7953\"], [0.7777777777777778, \"#fb9f3a\"], [0.8888888888888888, \"#fdca26\"], [1.0, \"#f0f921\"]]}, \"colorway\": [\"#636efa\", \"#EF553B\", \"#00cc96\", \"#ab63fa\", \"#FFA15A\", \"#19d3f3\", \"#FF6692\", \"#B6E880\", \"#FF97FF\", \"#FECB52\"], \"font\": {\"color\": \"#2a3f5f\"}, \"geo\": {\"bgcolor\": \"white\", \"lakecolor\": \"white\", \"landcolor\": \"#E5ECF6\", \"showlakes\": true, \"showland\": true, \"subunitcolor\": \"white\"}, \"hoverlabel\": {\"align\": \"left\"}, \"hovermode\": \"closest\", \"mapbox\": {\"style\": \"light\"}, \"paper_bgcolor\": \"white\", \"plot_bgcolor\": \"#E5ECF6\", \"polar\": {\"angularaxis\": {\"gridcolor\": \"white\", \"linecolor\": \"white\", \"ticks\": \"\"}, \"bgcolor\": \"#E5ECF6\", \"radialaxis\": {\"gridcolor\": \"white\", \"linecolor\": \"white\", \"ticks\": \"\"}}, \"scene\": {\"xaxis\": {\"backgroundcolor\": \"#E5ECF6\", \"gridcolor\": \"white\", \"gridwidth\": 2, \"linecolor\": \"white\", \"showbackground\": true, \"ticks\": \"\", \"zerolinecolor\": \"white\"}, \"yaxis\": {\"backgroundcolor\": \"#E5ECF6\", \"gridcolor\": \"white\", \"gridwidth\": 2, \"linecolor\": \"white\", \"showbackground\": true, \"ticks\": \"\", \"zerolinecolor\": \"white\"}, \"zaxis\": {\"backgroundcolor\": \"#E5ECF6\", \"gridcolor\": \"white\", \"gridwidth\": 2, \"linecolor\": \"white\", \"showbackground\": true, \"ticks\": \"\", \"zerolinecolor\": \"white\"}}, \"shapedefaults\": {\"line\": {\"color\": \"#2a3f5f\"}}, \"ternary\": {\"aaxis\": {\"gridcolor\": \"white\", \"linecolor\": \"white\", \"ticks\": \"\"}, \"baxis\": {\"gridcolor\": \"white\", \"linecolor\": \"white\", \"ticks\": \"\"}, \"bgcolor\": \"#E5ECF6\", \"caxis\": {\"gridcolor\": \"white\", \"linecolor\": \"white\", \"ticks\": \"\"}}, \"title\": {\"x\": 0.05}, \"xaxis\": {\"automargin\": true, \"gridcolor\": \"white\", \"linecolor\": \"white\", \"ticks\": \"\", \"title\": {\"standoff\": 15}, \"zerolinecolor\": \"white\", \"zerolinewidth\": 2}, \"yaxis\": {\"automargin\": true, \"gridcolor\": \"white\", \"linecolor\": \"white\", \"ticks\": \"\", \"title\": {\"standoff\": 15}, \"zerolinecolor\": \"white\", \"zerolinewidth\": 2}}}, \"title\": {\"text\": \"<b>Model Evaluation</b><br>\"}, \"width\": 800},\n",
       "                        {\"responsive\": true}\n",
       "                    ).then(function(){\n",
       "                            \n",
       "var gd = document.getElementById('b93e3867-ba3c-4e94-915a-e5c85f63944d');\n",
       "var x = new MutationObserver(function (mutations, observer) {{\n",
       "        var display = window.getComputedStyle(gd).display;\n",
       "        if (!display || display === 'none') {{\n",
       "            console.log([gd, 'removed!']);\n",
       "            Plotly.purge(gd);\n",
       "            observer.disconnect();\n",
       "        }}\n",
       "}});\n",
       "\n",
       "// Listen for the removal of the full notebook cells\n",
       "var notebookContainer = gd.closest('#notebook-container');\n",
       "if (notebookContainer) {{\n",
       "    x.observe(notebookContainer, {childList: true});\n",
       "}}\n",
       "\n",
       "// Listen for the clearing of the current output cell\n",
       "var outputEl = gd.closest('.output');\n",
       "if (outputEl) {{\n",
       "    x.observe(outputEl, {childList: true});\n",
       "}}\n",
       "\n",
       "                        })\n",
       "                };\n",
       "                });\n",
       "            </script>\n",
       "        </div>"
      ]
     },
     "metadata": {},
     "output_type": "display_data"
    }
   ],
   "source": [
    "#Plot our all models\n",
    "scores = acc\n",
    "df = pd.DataFrame(acc)\n",
    "df.loc[model_name_list[best_acc_index]] = df.max()\n",
    "df= df.rename(columns={0: 'accuracy'})\n",
    "trace = go.Table(\n",
    "    header=dict(values=['<b>Model', '<b>Accuracy'],\n",
    "    line = dict(color='#7D7F80'),\n",
    "    fill = dict(color='#546d87'),\n",
    "    align = ['center'],\n",
    "    font = dict(size = 15,color='burlywood')),\n",
    "    cells=dict(values=[('LogisticRegression','KNeighbourRegressor','Support Vector Classifier','DecisionTreeClassifier','RandomForestClassifier','AdaBoostClassifier','BaggingClassifier','VotingSoftClassifier','VotingHardClassifier',f'BestModel:{model_name_list[best_acc_index]}'),\n",
    "                           np.round(df['accuracy'],12)],\n",
    "    line = dict(color='#7D7F80'),\n",
    "    fill = dict(color='#EDFAFF'),\n",
    "    align = ['center'], font = dict(size = 12)))\n",
    "layout = dict(width=800, height=500, title = '<b>Model Evaluation</b><br>', font = dict(size = 15))\n",
    "fig = dict(data=[trace], layout=layout)\n",
    "\n",
    "py.iplot(fig, filename = 'styled_table')"
   ]
  },
  {
   "cell_type": "code",
   "execution_count": 65,
   "metadata": {},
   "outputs": [],
   "source": [
    "#this part can be skipped if only doing demmo in this notebook\n",
    "#if doing demmo outside this notebook then can't be skipped\n",
    "#save a static model\n",
    "dump(model_list[best_acc_index], 'filename.joblib');"
   ]
  },
  {
   "cell_type": "markdown",
   "metadata": {},
   "source": [
    "# Conclusion\n",
    "After training all the models, we have achieved an overall `80% accuracy` on our test data which can be used as a key point to attract clients to choose us as their movie investment consult. We have also gained a couple of insights from data visualization and descriptive analysis which can provide our clients with insights of the movie industry if they are new to the industry.<br>\n",
    "All the work described above leads our business to `two potentials`:<br>\n",
    "* Providing insights for movie industry beginners\n",
    "* Giving suggestions to those who have a specific movie proposal.  \n",
    "\n",
    "For the clients who are seeking `insights` of the movie, we can provide the following insights from exploring our dataset:<br>\n",
    "* The most profitable and promising genre of the movie industry is `Action` with a total gross of 68,429,390,000 dollars.\n",
    "* The director who has the highest business value is `Steven Spielberg`.His movies have generated a total profit of    4,114,233,000 dollars. \n",
    "* The actor who has the highest business value is `Tom Hanks`. Movies in which he is the main actor have a total gross of 3,264,559,000.\n",
    "* Customized other insights\n",
    "\n",
    "For those who want a `prediction` on how the movie's return performance. We will guide our clients through the following process.<br>\n",
    "* Fill out necessary basic information\n",
    "* Check our database for non-essential values, if need to be filled then guide our clients to fill them; if not, fill with basic values.\n",
    "* Output the result and help clients to understand and answer all the clients' questions  \n",
    "\n",
    "Now we have arrived at the stage where we can output `a reasonable ensembled function` to serve our future clients. The ensemble process includes:\n",
    "* Figure out the necessary values needed to be filled\n",
    "* Combine client-filled values and default values already filled in our database\n",
    "* Do the same feature engineering as we prepare for model training\n",
    "* Make predictions and output the result to present to our clients"
   ]
  },
  {
   "cell_type": "code",
   "execution_count": 66,
   "metadata": {},
   "outputs": [],
   "source": [
    "#these are functions that need to sourced into our final service function\n",
    "def query_value(query_df):\n",
    "    colnames=query_df.columns\n",
    "    if len(query_df[query_df[colnames[0]]==feature_col[colnames[0]]]) >0:\n",
    "        feature_col[colnames[1]]=max(query_df[query_df[colnames[0]]==feature_col[colnames[0]]][colnames[1]].mode())\n",
    "        feature_col[colnames[2]]=query_df[query_df[colnames[0]]==feature_col[colnames[0]]][colnames[2]].mean()\n",
    "    else:\n",
    "        print_sentence1=\"Please enter your estimate of 1-4 in anascending order of the AvgGross for \"+colnames[0].rstrip('_name')+': '\n",
    "        print_sentence2=\"Please enter your estimate of facebook likes for \"+colnames[0].rstrip('_name')+': '\n",
    "        feature_col[colnames[1]]=int(input(print_sentence1))\n",
    "        feature_col[colnames[2]]=int(input(print_sentence2)) \n",
    "def range_out(my_class):\n",
    "    if my_class==1:\n",
    "            return('(0~0.1)*10^8')\n",
    "    elif my_class==2:\n",
    "            return('(0.1~0.31)*10^8')\n",
    "    elif my_class==3:\n",
    "            return('(0.31~0.69)*10^8')\n",
    "    else:\n",
    "            return('(>0.69)*10^8 ')"
   ]
  },
  {
   "cell_type": "code",
   "execution_count": 67,
   "metadata": {},
   "outputs": [],
   "source": [
    "\n",
    "feature_col={'num_voted_users':data['num_voted_users'].mean(),'num_user_for_reviews':data['num_user_for_reviews'].mean(),'status_post_production':0,'status_released':1,'status_rumored':0,'tagline_or_not':1}\n",
    "need_input=['color','director_name','actor_1_name','actor_2_name','actor_3_name','aspect_ratio','genre','num_genres','facenumber_in_poster','country','content_rating', 'year','main_production_company','num_production_companies', 'num_production_countries', 'month','language','num_spoken_languages','duration','budget']\n",
    "#partition the values that need to be convert to float type and the values that need to be kept as an object\n",
    "object_col=['color','director_name','actor_1_name','actor_2_name','actor_3_name','country','content_rating','language','main_production_company','genre']\n",
    "float_col=[x for x in need_input if x not in object_col]\n",
    "def movie_teller():\n",
    "    for feature in object_col:\n",
    "        print_sentenct1=f\"Please input your movie's corresponding feature for {feature}: \"\n",
    "        value=input(print_sentenct1)\n",
    "        feature_col[feature]=value\n",
    "    print('Please Enter a number for the following celss:')\n",
    "    for feature in float_col:\n",
    "        print_sentenct1=f\"Please input your movie's corresponding feature for {feature}: \"\n",
    "        value=input(print_sentenct1)\n",
    "        feature_col[feature]=float(value)\n",
    "    for df in [director_query_df,actor_1_query_df,actor_2_query_df,actor_3_query_df]:\n",
    "        query_value(df)\n",
    "    colnames=imdb_score_query_df.columns\n",
    "    if len(imdb_score_query_df[imdb_score_query_df[colnames[0]]==feature_col[colnames[0]]]) >0:\n",
    "        for i in range(1,len(colnames)):\n",
    "            feature_col[colnames[i]]=imdb_score_query_df[imdb_score_query_df[colnames[0]]==feature_col[colnames[0]]][colnames[i]][0]\n",
    "    else:\n",
    "        for i in range(1,len(colnames)):\n",
    "            feature_col[colnames[i]]=imdb_score_query_df[colnames[i]].mean()\n",
    "    feature_df=pd.DataFrame(data=feature_col,index=[0])\n",
    "    feature_df.drop(['director_name', 'actor_1_name', 'actor_2_name', 'actor_3_name'],axis=1,inplace=True)\n",
    "    pipeline_transfer(feature_df)\n",
    "    result=service_model.predict(feature_df)\n",
    "    clear_output(wait=True)\n",
    "    print('Hold on for a second please.')\n",
    "    print('----------------')\n",
    "    print('----------------')\n",
    "    print('My Dear Customer: Here is your final result:')\n",
    "    print(f\"The expected class for the movie proposal is Class{result[0]} which corresponding to a gross in the range of {range_out(result[0])}\")\n",
    "\n",
    "\n"
   ]
  },
  {
   "cell_type": "code",
   "execution_count": 68,
   "metadata": {},
   "outputs": [],
   "source": [
    "#load the static model\n",
    "#this part can be skipped if only doing demmo in this notebook\n",
    "#if doing demmo outside this notebook then can't be skipped\n",
    "service_model=load('filename.joblib')"
   ]
  },
  {
   "cell_type": "markdown",
   "metadata": {},
   "source": [
    "## Service Demmo\n",
    "We are gonna use Avatar as our example to show how our basic service model works. "
   ]
  },
  {
   "cell_type": "markdown",
   "metadata": {},
   "source": [
    "#### User Input Template:  \n",
    "color : `Color` &nbsp;&nbsp;&nbsp;&nbsp;&nbsp;&nbsp;&nbsp;&nbsp;&nbsp;&nbsp;&nbsp;&nbsp;&nbsp;&nbsp;&nbsp;&nbsp;&nbsp;&nbsp;&nbsp;&nbsp;&nbsp;&nbsp;&nbsp;&nbsp;&nbsp;&nbsp;&nbsp;&nbsp;&nbsp;&nbsp;&nbsp;&nbsp;&nbsp;&nbsp;&nbsp;&nbsp;&nbsp;&nbsp;&nbsp;&nbsp; director_name : `James Cameron` &nbsp;&nbsp;&nbsp;&nbsp;&nbsp;&nbsp;&nbsp;&nbsp;&nbsp;&nbsp;&nbsp;&nbsp;&nbsp;&nbsp;&nbsp;&nbsp;&nbsp; actor_1_name : `CCH Pounder`<br>\n",
    "actor_2_name : `Joel David Moore` &nbsp;&nbsp;&nbsp;actor_3_name : `Wes Studi` &nbsp;&nbsp;&nbsp;&nbsp;&nbsp;&nbsp;&nbsp;&nbsp;&nbsp;&nbsp;&nbsp;&nbsp;&nbsp;&nbsp;&nbsp;&nbsp;&nbsp;&nbsp;&nbsp;&nbsp;&nbsp;&nbsp;&nbsp;&nbsp;&nbsp;&nbsp;&nbsp;&nbsp;&nbsp;&nbsp;&nbsp;&nbsp;&nbsp;&nbsp;&nbsp;&nbsp;&nbsp;&nbsp;&nbsp;&nbsp;&nbsp;&nbsp;&nbsp;&nbsp;&nbsp;&nbsp; aspect_ratio : `1.78`<br>\n",
    "genre : ` Action`&nbsp;&nbsp;&nbsp;&nbsp;&nbsp;&nbsp;&nbsp;&nbsp;&nbsp;&nbsp;&nbsp;&nbsp;&nbsp;&nbsp;&nbsp;&nbsp;&nbsp;&nbsp;&nbsp;&nbsp;&nbsp;&nbsp;&nbsp;&nbsp;&nbsp;&nbsp;&nbsp;&nbsp;&nbsp;&nbsp;&nbsp;&nbsp;&nbsp;&nbsp;&nbsp;&nbsp;&nbsp;&nbsp;&nbsp;&nbsp; num_genres : `4`&nbsp;&nbsp;&nbsp;&nbsp;&nbsp;&nbsp;&nbsp;&nbsp;&nbsp;&nbsp;&nbsp;&nbsp;&nbsp;&nbsp;&nbsp;&nbsp;&nbsp;&nbsp;&nbsp;&nbsp;&nbsp;&nbsp;&nbsp;&nbsp;&nbsp;&nbsp;&nbsp;&nbsp;&nbsp;&nbsp;&nbsp;&nbsp;&nbsp;&nbsp;&nbsp;&nbsp;&nbsp;&nbsp;&nbsp;&nbsp;&nbsp;&nbsp;&nbsp;&nbsp;&nbsp;&nbsp;&nbsp;&nbsp;&nbsp;&nbsp;&nbsp;&nbsp;&nbsp;&nbsp;&nbsp;&nbsp;&nbsp;facenumber_in_poster : `0`<br>\n",
    "country : `USA`&nbsp;&nbsp;&nbsp;&nbsp;&nbsp;&nbsp;&nbsp;&nbsp;&nbsp;&nbsp;&nbsp;&nbsp;&nbsp;&nbsp;&nbsp;&nbsp;&nbsp;&nbsp;&nbsp;&nbsp;&nbsp;&nbsp;&nbsp;&nbsp;&nbsp;&nbsp;&nbsp;&nbsp;&nbsp;&nbsp;&nbsp;&nbsp;&nbsp;&nbsp;&nbsp;&nbsp;&nbsp;&nbsp;&nbsp;&nbsp;&nbsp;&nbsp;content_rating : `PG-13` &nbsp;&nbsp;&nbsp;&nbsp;&nbsp;&nbsp;&nbsp;&nbsp;&nbsp;&nbsp;&nbsp;&nbsp;&nbsp;&nbsp;&nbsp;&nbsp;&nbsp;&nbsp;&nbsp;&nbsp;&nbsp;&nbsp;&nbsp;&nbsp;&nbsp;&nbsp;&nbsp;&nbsp;&nbsp;&nbsp;&nbsp;&nbsp;&nbsp;&nbsp;&nbsp;&nbsp;&nbsp;&nbsp;&nbsp;&nbsp;&nbsp;&nbsp;&nbsp;&nbsp;&nbsp;&nbsp;&nbsp;&nbsp;&nbsp;&nbsp;&nbsp;&nbsp;&nbsp;&nbsp;&nbsp;&nbsp;&nbsp;&nbsp;&nbsp;&nbsp;&nbsp;&nbsp;&nbsp;year : `2009`<br>\n",
    "main_production_company : `Ingenious Film Partners`&nbsp;&nbsp;&nbsp;&nbsp;&nbsp;&nbsp;&nbsp;&nbsp;&nbsp;&nbsp;&nbsp;&nbsp;&nbsp;&nbsp;&nbsp;&nbsp;&nbsp;&nbsp;&nbsp;&nbsp;&nbsp;&nbsp;&nbsp;&nbsp;&nbsp;&nbsp;&nbsp;&nbsp;&nbsp;&nbsp;&nbsp;&nbsp;&nbsp;&nbsp;&nbsp;&nbsp;&nbsp;&nbsp;&nbsp;&nbsp;&nbsp;&nbsp;&nbsp;&nbsp;&nbsp;&nbsp;&nbsp;&nbsp;&nbsp;&nbsp;&nbsp;&nbsp;&nbsp;&nbsp;&nbsp;&nbsp;&nbsp;&nbsp;&nbsp;&nbsp;&nbsp;\n",
    "num_production_companies : `4`<br>\n",
    "num_production_countries : `2`<br>\n",
    "month : `12`&nbsp;&nbsp;&nbsp;&nbsp;&nbsp;&nbsp;&nbsp;&nbsp;&nbsp;&nbsp;&nbsp;&nbsp;&nbsp;&nbsp;&nbsp;&nbsp;&nbsp;&nbsp;&nbsp;&nbsp;&nbsp;&nbsp;&nbsp;&nbsp;&nbsp;&nbsp;&nbsp;&nbsp;&nbsp;&nbsp;&nbsp;&nbsp;&nbsp;&nbsp;&nbsp;&nbsp;&nbsp;&nbsp;&nbsp;&nbsp;&nbsp;&nbsp;&nbsp;&nbsp;&nbsp;&nbsp;&nbsp;\n",
    "language : `en`&nbsp;&nbsp;&nbsp;&nbsp;&nbsp;&nbsp;&nbsp;&nbsp;&nbsp;&nbsp;&nbsp;&nbsp;&nbsp;&nbsp;&nbsp;&nbsp;&nbsp;&nbsp;&nbsp;&nbsp;&nbsp;&nbsp;&nbsp;&nbsp;&nbsp;&nbsp;&nbsp;&nbsp;&nbsp;&nbsp;&nbsp;&nbsp;&nbsp;&nbsp;&nbsp;&nbsp;&nbsp;&nbsp;&nbsp;&nbsp;&nbsp;&nbsp;&nbsp;&nbsp;&nbsp;&nbsp;&nbsp;&nbsp;&nbsp;&nbsp;&nbsp;&nbsp;&nbsp;&nbsp;&nbsp;&nbsp;num_spoken_languages : `2`<br>\n",
    "duration : ` 178`&nbsp;&nbsp;&nbsp;&nbsp;&nbsp;&nbsp;&nbsp;&nbsp;&nbsp;&nbsp;&nbsp;&nbsp;&nbsp;&nbsp;&nbsp;&nbsp;&nbsp;&nbsp;&nbsp;&nbsp;&nbsp;&nbsp;&nbsp;&nbsp;&nbsp;&nbsp;&nbsp;&nbsp;&nbsp;&nbsp;&nbsp;&nbsp;&nbsp;&nbsp;&nbsp;&nbsp;&nbsp;&nbsp;&nbsp;&nbsp;&nbsp;&nbsp;&nbsp;budget : `2.37e+08`<br>\n",
    "  \n",
    "#### When doing `movie_teller` demmo please follow the template in order to generate the best user experience. Since our company is still growing, we haven't upgraded our user interface to a relative powerful level. I'm sorry for the inconvenience and thankful for your cooperation."
   ]
  },
  {
   "cell_type": "code",
   "execution_count": 69,
   "metadata": {},
   "outputs": [
    {
     "name": "stdout",
     "output_type": "stream",
     "text": [
      "Hold on for a second please.\n",
      "----------------\n",
      "----------------\n",
      "My Dear Customer: Here is your final result:\n",
      "The expected class for the movie proposal is Class1 which corresponding to a gross in the range of (0~0.1)*10^8\n"
     ]
    }
   ],
   "source": [
    "#run this start your demmo, please enter values like examples in user template.\n",
    "#reset to default value\n",
    "print('Please input according to our template.')\n",
    "feature_col={'num_voted_users':data['num_voted_users'].mean(),'num_user_for_reviews':data['num_user_for_reviews'].mean(),'status_post_production':0,'status_released':1,'status_rumored':0,'tagline_or_not':1}\n",
    "#start demo\n",
    "movie_teller()"
   ]
  },
  {
   "cell_type": "markdown",
   "metadata": {},
   "source": [
    "From result, we can see that if we know nothing about the number of reviews or voted useres, by default, Avatar falls into Class 1. This is acutuall reasonable because we did not count in its later influence and receptions while post-promotions of Avatar made a big contribution. We can also compared with the plot below, which shows results of Avartar with all features. It is classified as Class 4, same as its actual class. Therefore, our tool tends to provide a baseline for investors when choosing movies.  \n",
    "\n",
    "<img style=\"float: left;\" src=\"https://i.loli.net/2020/05/03/ZVEASOuIjvwcyBR.png\" width=800 height=200>"
   ]
  },
  {
   "cell_type": "markdown",
   "metadata": {},
   "source": [
    "# Further Development\n",
    "The result above shows the best method for this problem with a good accuracy in our dataset. We think we make a good start.\n",
    "\n",
    "In reality, movie revenues can be determined and affected by many things that are very hard to collect and foresee, such as current economic situation, recent virus, changes in peoples' tastes, number of competing films and so on. Therefore, there are still some other factors affecting movies gross and the film industry that we did not include in model or discussed further.However, we believe that we can improve the performance of our model by updating the observations, adding more features, doing better feature engineering or using more advanced methods.In the future, for our model that is designed to help predicting the future revenue class for the movies, we think it would be useful to create some interfaces for users to input the features themselves and get the results such as creating an .exe file.\n",
    "\n",
    "So far, we analyze the movie data through the previous processes such as descriptive analysis, modeling and so on. We find it fascinating to explore the film industry and happy to get some insights about it to help somebody who wants to know it as well."
   ]
  },
  {
   "cell_type": "markdown",
   "metadata": {},
   "source": [
    "# References\n",
    "[1] Gareth James, Daniela Witten, Trevor Hastie, Robert Tibshirani. (2013). An introduction to statistical learning : with applications in R. New York :Springer,  \n",
    "[2] https://scikit-learn.org/stable/modules/generated/sklearn.svm.SVC.html  \n",
    "[3] https://pandas.pydata.org/pandas-docs/stable/reference/api/pandas.DataFrame.combine_first.html  \n",
    "[4] http://www.omdbapi.com/   \n",
    "[5] https://sm.ms/  \n"
   ]
  }
 ],
 "metadata": {
  "kernelspec": {
   "display_name": "Python 3",
   "language": "python",
   "name": "python3"
  },
  "language_info": {
   "codemirror_mode": {
    "name": "ipython",
    "version": 3
   },
   "file_extension": ".py",
   "mimetype": "text/x-python",
   "name": "python",
   "nbconvert_exporter": "python",
   "pygments_lexer": "ipython3",
   "version": "3.7.4"
  }
 },
 "nbformat": 4,
 "nbformat_minor": 2
}
